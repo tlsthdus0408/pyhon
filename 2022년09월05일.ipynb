{
 "cells": [
  {
   "cell_type": "markdown",
   "id": "cd3cd801",
   "metadata": {},
   "source": [
    "# 함수= 입력을 받아서 출력을 내보내는 박스로 생각할수 있다."
   ]
  },
  {
   "cell_type": "code",
   "execution_count": 3,
   "id": "8761f9bf",
   "metadata": {},
   "outputs": [],
   "source": [
    "def print_address():\n",
    "    print(\"서울특별시 종로구 1번지\")\n",
    "    print(\"파이션 빈딩 7동\")\n",
    "    print(\"홍길동\""
   ]
  },
  {
   "cell_type": "code",
   "execution_count": 16,
   "id": "95cc190a",
   "metadata": {},
   "outputs": [],
   "source": [
    "\n",
    "def print_address():\n",
    "    for i in range(10):\n",
    "        print(\"서울특별시 종로구 1번지\")\n",
    "        print(\"파이션 빈딩 7동\")\n",
    "        print(name)\n",
    "    "
   ]
  },
  {
   "cell_type": "code",
   "execution_count": 7,
   "id": "6f5a5542",
   "metadata": {
    "scrolled": true
   },
   "outputs": [
    {
     "name": "stdout",
     "output_type": "stream",
     "text": [
      "서울특별시 종로구 1번지\n",
      "파이션 빈딩 7동\n",
      "홍길동\n",
      "서울특별시 종로구 1번지\n",
      "파이션 빈딩 7동\n",
      "홍길동\n",
      "서울특별시 종로구 1번지\n",
      "파이션 빈딩 7동\n",
      "홍길동\n",
      "서울특별시 종로구 1번지\n",
      "파이션 빈딩 7동\n",
      "홍길동\n",
      "서울특별시 종로구 1번지\n",
      "파이션 빈딩 7동\n",
      "홍길동\n",
      "서울특별시 종로구 1번지\n",
      "파이션 빈딩 7동\n",
      "홍길동\n",
      "서울특별시 종로구 1번지\n",
      "파이션 빈딩 7동\n",
      "홍길동\n",
      "서울특별시 종로구 1번지\n",
      "파이션 빈딩 7동\n",
      "홍길동\n",
      "서울특별시 종로구 1번지\n",
      "파이션 빈딩 7동\n",
      "홍길동\n",
      "서울특별시 종로구 1번지\n",
      "파이션 빈딩 7동\n",
      "홍길동\n"
     ]
    }
   ],
   "source": [
    " print_address() "
   ]
  },
  {
   "cell_type": "code",
   "execution_count": 19,
   "id": "f47be934",
   "metadata": {},
   "outputs": [],
   "source": [
    "def print_address():\n",
    "    print(\"서울특별시 종로구 1번지\")\n",
    "    print(\"파이션 빈딩 7동\")\n",
    "    print(\"name\")"
   ]
  },
  {
   "cell_type": "code",
   "execution_count": null,
   "id": "682ce037",
   "metadata": {},
   "outputs": [],
   "source": []
  },
  {
   "cell_type": "code",
   "execution_count": 5,
   "id": "29455d7f",
   "metadata": {},
   "outputs": [
    {
     "name": "stdout",
     "output_type": "stream",
     "text": [
      "서울특별시 종로구 1번지\n",
      "파이션 빈딩 7동\n",
      "홍길동\n"
     ]
    }
   ],
   "source": [
    " print_address()"
   ]
  },
  {
   "cell_type": "code",
   "execution_count": 11,
   "id": "4d9a16e1",
   "metadata": {},
   "outputs": [
    {
     "name": "stdout",
     "output_type": "stream",
     "text": [
      "0 서울특별시 종로구 1번지\n",
      "0 파이션 빈딩 7동\n",
      "0 홍길동\n",
      "1 서울특별시 종로구 1번지\n",
      "1 파이션 빈딩 7동\n",
      "1 홍길동\n",
      "2 서울특별시 종로구 1번지\n",
      "2 파이션 빈딩 7동\n",
      "2 홍길동\n",
      "3 서울특별시 종로구 1번지\n",
      "3 파이션 빈딩 7동\n",
      "3 홍길동\n",
      "4 서울특별시 종로구 1번지\n",
      "4 파이션 빈딩 7동\n",
      "4 홍길동\n",
      "5 서울특별시 종로구 1번지\n",
      "5 파이션 빈딩 7동\n",
      "5 홍길동\n",
      "6 서울특별시 종로구 1번지\n",
      "6 파이션 빈딩 7동\n",
      "6 홍길동\n",
      "7 서울특별시 종로구 1번지\n",
      "7 파이션 빈딩 7동\n",
      "7 홍길동\n",
      "8 서울특별시 종로구 1번지\n",
      "8 파이션 빈딩 7동\n",
      "8 홍길동\n",
      "9 서울특별시 종로구 1번지\n",
      "9 파이션 빈딩 7동\n",
      "9 홍길동\n"
     ]
    }
   ],
   "source": [
    "for i in range(10):\n",
    "    print_address()"
   ]
  },
  {
   "cell_type": "code",
   "execution_count": 18,
   "id": "ec3eb1da",
   "metadata": {},
   "outputs": [
    {
     "name": "stdout",
     "output_type": "stream",
     "text": [
      "서울특별시 종로구 1번지\n",
      "파이션 빈딩 7동\n",
      "홍길동\n",
      "서울특별시 종로구 1번지\n",
      "파이션 빈딩 7동\n",
      "홍길동\n",
      "서울특별시 종로구 1번지\n",
      "파이션 빈딩 7동\n",
      "홍길동\n",
      "서울특별시 종로구 1번지\n",
      "파이션 빈딩 7동\n",
      "홍길동\n",
      "서울특별시 종로구 1번지\n",
      "파이션 빈딩 7동\n",
      "홍길동\n",
      "서울특별시 종로구 1번지\n",
      "파이션 빈딩 7동\n",
      "홍길동\n",
      "서울특별시 종로구 1번지\n",
      "파이션 빈딩 7동\n",
      "홍길동\n",
      "서울특별시 종로구 1번지\n",
      "파이션 빈딩 7동\n",
      "홍길동\n",
      "서울특별시 종로구 1번지\n",
      "파이션 빈딩 7동\n",
      "홍길동\n",
      "서울특별시 종로구 1번지\n",
      "파이션 빈딩 7동\n",
      "홍길동\n"
     ]
    }
   ],
   "source": [
    " print_address()"
   ]
  },
  {
   "cell_type": "code",
   "execution_count": 22,
   "id": "4f08235c",
   "metadata": {},
   "outputs": [],
   "source": [
    "def calc_area(radlus):\n",
    "    \n",
    "    area= 3.14 * radlus ** 2\n",
    "    print(\"함수내 의 값\",area)\n",
    "    radls=radlus+1\n",
    "    return area,radls\n",
    "\n"
   ]
  },
  {
   "cell_type": "code",
   "execution_count": null,
   "id": "6631815e",
   "metadata": {},
   "outputs": [],
   "source": []
  },
  {
   "cell_type": "code",
   "execution_count": 23,
   "id": "68287bbb",
   "metadata": {},
   "outputs": [
    {
     "name": "stdout",
     "output_type": "stream",
     "text": [
      "함수내 의 값 78.5\n",
      "함수밖 값 78.5 6.0\n"
     ]
    }
   ],
   "source": [
    "c_area,c_radls = calc_area (5.0)\n",
    "print(\"함수밖 값\", c_area,c_radls)"
   ]
  },
  {
   "cell_type": "code",
   "execution_count": 6,
   "id": "fb30d04d",
   "metadata": {},
   "outputs": [
    {
     "name": "stdout",
     "output_type": "stream",
     "text": [
      "32\n"
     ]
    }
   ],
   "source": [
    "a=2\n",
    "a=a **5\n",
    "print(a)"
   ]
  },
  {
   "cell_type": "code",
   "execution_count": 9,
   "id": "330161ef",
   "metadata": {},
   "outputs": [],
   "source": [
    "def calc_area(radlus):                    #radius=5.0\n",
    "    print(\"전달값\")\n",
    "    area= 3.14 * radlus ** 2              #area=3.14*radlus**2\n",
    "    print(\"함수내 의 값\",area)             #print(\"함수내 겂\",area)\n",
    "    return area\n",
    "\n",
    " "
   ]
  },
  {
   "cell_type": "code",
   "execution_count": 42,
   "id": "df2113da",
   "metadata": {},
   "outputs": [],
   "source": [
    "def get_sum(stat,end):\n",
    "    sum = 0\n",
    "    for n in range(stat, end+1):\n",
    "        sum= sum+n\n",
    "        return sum"
   ]
  },
  {
   "cell_type": "code",
   "execution_count": 41,
   "id": "78fb9e6e",
   "metadata": {},
   "outputs": [
    {
     "data": {
      "text/plain": [
       "5"
      ]
     },
     "execution_count": 41,
     "metadata": {},
     "output_type": "execute_result"
    }
   ],
   "source": [
    "sum=get_sum(1,10)\n",
    "print(sum)"
   ]
  },
  {
   "cell_type": "code",
   "execution_count": 58,
   "id": "4f07d618",
   "metadata": {},
   "outputs": [],
   "source": [
    "def add(a,b):\n",
    "    return a+b"
   ]
  },
  {
   "cell_type": "code",
   "execution_count": 59,
   "id": "c30cfda2",
   "metadata": {},
   "outputs": [
    {
     "data": {
      "text/plain": [
       "3"
      ]
     },
     "execution_count": 59,
     "metadata": {},
     "output_type": "execute_result"
    }
   ],
   "source": [
    "add(1,2)"
   ]
  },
  {
   "cell_type": "code",
   "execution_count": 60,
   "id": "dd82cc69",
   "metadata": {},
   "outputs": [],
   "source": [
    "def add(a,b):\n",
    "    return a-b"
   ]
  },
  {
   "cell_type": "code",
   "execution_count": 61,
   "id": "c9e65699",
   "metadata": {},
   "outputs": [
    {
     "data": {
      "text/plain": [
       "1"
      ]
     },
     "execution_count": 61,
     "metadata": {},
     "output_type": "execute_result"
    }
   ],
   "source": [
    "add(2,1)"
   ]
  },
  {
   "cell_type": "code",
   "execution_count": 62,
   "id": "541c092e",
   "metadata": {},
   "outputs": [
    {
     "name": "stdout",
     "output_type": "stream",
     "text": [
      "-1\n"
     ]
    }
   ],
   "source": [
    "c=add(1,2)\n",
    "print(c)"
   ]
  },
  {
   "cell_type": "code",
   "execution_count": 63,
   "id": "830f615a",
   "metadata": {},
   "outputs": [],
   "source": [
    "a1=1\n",
    "b=3\n",
    "c=add(a1,b)"
   ]
  },
  {
   "cell_type": "code",
   "execution_count": 2,
   "id": "88641fc1",
   "metadata": {},
   "outputs": [],
   "source": [
    "def add(a,b):\n",
    "    print(\"%d %d 의합은 %d입니다.\"%(a,b,a+b))"
   ]
  },
  {
   "cell_type": "code",
   "execution_count": 3,
   "id": "f4c4c2d6",
   "metadata": {},
   "outputs": [
    {
     "name": "stdout",
     "output_type": "stream",
     "text": [
      "3 4 의합은 7입니다.\n"
     ]
    }
   ],
   "source": [
    "add(3,4)"
   ]
  },
  {
   "cell_type": "code",
   "execution_count": 4,
   "id": "d136f8b5",
   "metadata": {},
   "outputs": [
    {
     "name": "stdout",
     "output_type": "stream",
     "text": [
      "3 4 의합은 7입니다.\n",
      "None\n"
     ]
    }
   ],
   "source": [
    "c=add(3,4)\n",
    "print(c)"
   ]
  },
  {
   "cell_type": "code",
   "execution_count": 5,
   "id": "8776bd5e",
   "metadata": {},
   "outputs": [],
   "source": [
    "def add(a,b):\n",
    "    return a+b\n",
    "    "
   ]
  },
  {
   "cell_type": "code",
   "execution_count": 7,
   "id": "12b8620f",
   "metadata": {},
   "outputs": [],
   "source": [
    "result=add(a=3,b=4)"
   ]
  },
  {
   "cell_type": "code",
   "execution_count": 8,
   "id": "dbc5ca9f",
   "metadata": {},
   "outputs": [
    {
     "name": "stdout",
     "output_type": "stream",
     "text": [
      "7\n"
     ]
    }
   ],
   "source": [
    "print(result)"
   ]
  },
  {
   "cell_type": "code",
   "execution_count": 9,
   "id": "75b88329",
   "metadata": {},
   "outputs": [],
   "source": [
    "def say_myslf(name,old,man=True):\n",
    "    print(\"나의 이름은 %s 입니다\"%(name))\n",
    "    print(\"나의 나이는 %d 살입니다.\"%(old))\n",
    "    if man:\n",
    "        print(\"나는 남자입니다.\")\n",
    "    else: \n",
    "        print(\"나는여자입니다\")"
   ]
  },
  {
   "cell_type": "code",
   "execution_count": 11,
   "id": "8bc20408",
   "metadata": {
    "scrolled": true
   },
   "outputs": [
    {
     "name": "stdout",
     "output_type": "stream",
     "text": [
      "나의 이름은 홍길동 입니다\n",
      "나의 나이는 18 살입니다.\n",
      "나는여자입니다\n"
     ]
    }
   ],
   "source": [
    "say_myslf(\"홍길동\",18,False)"
   ]
  },
  {
   "cell_type": "code",
   "execution_count": 12,
   "id": "50c17c9f",
   "metadata": {},
   "outputs": [],
   "source": [
    "add=lambda a,b: a+b  #def add(a.b)\n",
    "                    # c=a+b\n",
    "                    # return c\n",
    "resuit=add(3,4)       \n",
    "    \n"
   ]
  },
  {
   "cell_type": "code",
   "execution_count": 14,
   "id": "785fff07",
   "metadata": {},
   "outputs": [
    {
     "name": "stdout",
     "output_type": "stream",
     "text": [
      "7\n"
     ]
    }
   ],
   "source": [
    "print(result)"
   ]
  },
  {
   "cell_type": "code",
   "execution_count": 15,
   "id": "117e3131",
   "metadata": {},
   "outputs": [],
   "source": [
    "def add(a,b):\n",
    "    return a+b"
   ]
  },
  {
   "cell_type": "code",
   "execution_count": 16,
   "id": "a2181c99",
   "metadata": {},
   "outputs": [],
   "source": [
    "f=open(\"새파일2.txt\",\"w\")    #write\n",
    "f.close()"
   ]
  },
  {
   "cell_type": "code",
   "execution_count": 3,
   "id": "69fb012a",
   "metadata": {},
   "outputs": [
    {
     "name": "stdout",
     "output_type": "stream",
     "text": [
      "\n"
     ]
    }
   ],
   "source": [
    "f=open(\"새파일.txt\",\"r\",encoding=\"utf8\")    #write\n",
    "while True:\n",
    "\n",
    "    line=f.readline()\n",
    "    if not line:\n",
    "        break\n",
    "line=f.readline()\n",
    "print(line)"
   ]
  },
  {
   "cell_type": "code",
   "execution_count": null,
   "id": "97000fae",
   "metadata": {},
   "outputs": [],
   "source": [
    "f=open(\"새파일.txt\",\"r\",encoding=\"utf8\")    #writ\n",
    "\n",
    "    line=f.readline(dat)\n",
    "line=f.readline()\n",
    "print(line)"
   ]
  },
  {
   "cell_type": "code",
   "execution_count": 6,
   "id": "5a0977fc",
   "metadata": {},
   "outputs": [],
   "source": [
    "f=open(\"foo.txt\",\"w\")\n",
    "f.write(\"오늘 파이션을 공부하엿습니다.\\n\")\n",
    "f.write(\"머리가 너무 터질것같아요.\")\n",
    "f.close()\n"
   ]
  },
  {
   "cell_type": "code",
   "execution_count": 9,
   "id": "2c02f689",
   "metadata": {},
   "outputs": [],
   "source": [
    "with open(\"foo2.txt\",\"w\")as f:\n",
    "    f.write(\"오늘 파이션을 공부하엿습니다.\")\n",
    "    f.write(\"공부가 너무 쉬웠습니다..\")\n"
   ]
  },
  {
   "cell_type": "code",
   "execution_count": 5,
   "id": "c2365138",
   "metadata": {},
   "outputs": [
    {
     "name": "stdout",
     "output_type": "stream",
     "text": [
      "[1, 2, 3, 4]\n"
     ]
    }
   ],
   "source": [
    "a=[1,2,3,4]\n",
    "print(a)\n"
   ]
  },
  {
   "cell_type": "code",
   "execution_count": 8,
   "id": "b6b45155",
   "metadata": {},
   "outputs": [
    {
     "name": "stdout",
     "output_type": "stream",
     "text": [
      "[5, 1, 6, 5, 2, 3, 4]\n"
     ]
    }
   ],
   "source": [
    "a.insert(2,6)\n",
    "print(a)"
   ]
  },
  {
   "cell_type": "code",
   "execution_count": null,
   "id": "6612970b",
   "metadata": {},
   "outputs": [],
   "source": [
    "dl"
   ]
  },
  {
   "cell_type": "code",
   "execution_count": null,
   "id": "eca3e6eb",
   "metadata": {},
   "outputs": [],
   "source": []
  }
 ],
 "metadata": {
  "kernelspec": {
   "display_name": "Python 3 (ipykernel)",
   "language": "python",
   "name": "python3"
  },
  "language_info": {
   "codemirror_mode": {
    "name": "ipython",
    "version": 3
   },
   "file_extension": ".py",
   "mimetype": "text/x-python",
   "name": "python",
   "nbconvert_exporter": "python",
   "pygments_lexer": "ipython3",
   "version": "3.9.12"
  }
 },
 "nbformat": 4,
 "nbformat_minor": 5
}

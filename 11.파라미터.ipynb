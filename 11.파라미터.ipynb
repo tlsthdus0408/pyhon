{
 "cells": [
  {
   "cell_type": "code",
   "execution_count": 1,
   "id": "bb7d883a",
   "metadata": {},
   "outputs": [
    {
     "data": {
      "text/html": [
       "<style>div.container { width:100% !important; }</style>"
      ],
      "text/plain": [
       "<IPython.core.display.HTML object>"
      ]
     },
     "metadata": {},
     "output_type": "display_data"
    }
   ],
   "source": [
    "from IPython.display import display, HTML\n",
    "display(HTML(\"<style>div.container { width:100% !important; }</style>\"))\n"
   ]
  },
  {
   "cell_type": "code",
   "execution_count": 17,
   "id": "1e584789",
   "metadata": {},
   "outputs": [],
   "source": [
    "def lastNane_and_firstName(*args):\n",
    "    for arg in args:\n",
    "        print(\"%s %s\" % (arg[0],arg[1:3]),end=\" \")\n",
    "        print(\"\\n\")"
   ]
  },
  {
   "cell_type": "code",
   "execution_count": 13,
   "id": "29a29e66",
   "metadata": {},
   "outputs": [
    {
     "name": "stdout",
     "output_type": "stream",
     "text": [
      "홍 길동 \n",
      "\n",
      "이 순신 \n",
      "\n"
     ]
    }
   ],
   "source": [
    "lastNane_and_firstName(\"홍길동\",\"이순신\")"
   ]
  },
  {
   "cell_type": "code",
   "execution_count": 14,
   "id": "9ee05952",
   "metadata": {},
   "outputs": [],
   "source": [
    "def lastNane_and_firstName(args):\n",
    "    for arg in args:\n",
    "        print(\"%s %s\" % (arg[0],arg[1:3]),end=\" \")\n",
    "        print(\"\\n\")"
   ]
  },
  {
   "cell_type": "code",
   "execution_count": 95,
   "id": "abc2464d",
   "metadata": {},
   "outputs": [],
   "source": [
    "a1=\"홍길동\"\n",
    "a2=\"이순신\"\n",
    "a3=\"이수영\"\n",
    "a4=\"김소연\"\n",
    "a5=\"이관우\""
   ]
  },
  {
   "cell_type": "code",
   "execution_count": 96,
   "id": "09f0268f",
   "metadata": {},
   "outputs": [],
   "source": [
    "def lastNane_and_firstName(**names):\n",
    "    for name in names:\n",
    "        print(\"%s %s\" % (name[0],name[1:3]),end=\" \")\n",
    "        print(\"\\n\")\n",
    "        print(type(names))"
   ]
  },
  {
   "cell_type": "code",
   "execution_count": 105,
   "id": "1cc9b278",
   "metadata": {},
   "outputs": [],
   "source": [
    "def lastNane_and_firstName(**names):\n",
    "    for name in names:\n",
    "        print(\"제목{},{}\" .format(name[0],name[1:3]))\n",
    "        print(\"\\n\")\n",
    "        print(type(names))"
   ]
  },
  {
   "cell_type": "code",
   "execution_count": 106,
   "id": "4be50d42",
   "metadata": {},
   "outputs": [
    {
     "ename": "TypeError",
     "evalue": "lastNane_and_firstName() takes 0 positional arguments but 3 were given",
     "output_type": "error",
     "traceback": [
      "\u001b[1;31m---------------------------------------------------------------------------\u001b[0m",
      "\u001b[1;31mTypeError\u001b[0m                                 Traceback (most recent call last)",
      "Input \u001b[1;32mIn [106]\u001b[0m, in \u001b[0;36m<cell line: 1>\u001b[1;34m()\u001b[0m\n\u001b[1;32m----> 1\u001b[0m \u001b[43mlastNane_and_firstName\u001b[49m\u001b[43m(\u001b[49m\u001b[43ma1\u001b[49m\u001b[43m,\u001b[49m\u001b[43ma2\u001b[49m\u001b[43m,\u001b[49m\u001b[43ma3\u001b[49m\u001b[43m)\u001b[49m\n",
      "\u001b[1;31mTypeError\u001b[0m: lastNane_and_firstName() takes 0 positional arguments but 3 were given"
     ]
    }
   ],
   "source": [
    "lastNane_and_firstName(a1,a2,a3)"
   ]
  },
  {
   "cell_type": "markdown",
   "id": "57a56ed0",
   "metadata": {},
   "source": [
    "## **kwargs"
   ]
  },
  {
   "cell_type": "code",
   "execution_count": 28,
   "id": "29b1a58e",
   "metadata": {},
   "outputs": [],
   "source": [
    "블로그1=\"첫번째 블로그\"\n",
    "블로그2=\"두번재 블로그\"\n",
    "블로그3=\"셋번째 블로그\""
   ]
  },
  {
   "cell_type": "code",
   "execution_count": 29,
   "id": "5abfbde8",
   "metadata": {},
   "outputs": [],
   "source": [
    "def blog_msg(*blogs):\n",
    "    for post in blogs:\n",
    "        print(\"{}\".format(post))\n",
    "    print(\"\\n\")   "
   ]
  },
  {
   "cell_type": "code",
   "execution_count": 30,
   "id": "b46806f0",
   "metadata": {
    "scrolled": true
   },
   "outputs": [
    {
     "name": "stdout",
     "output_type": "stream",
     "text": [
      "첫번째 블로그\n",
      "두번재 블로그\n",
      "셋번째 블로그\n",
      "\n",
      "\n"
     ]
    }
   ],
   "source": [
    "blog_msg(블로그1,블로그2,블로그3)"
   ]
  },
  {
   "cell_type": "code",
   "execution_count": 32,
   "id": "4c7a9096",
   "metadata": {},
   "outputs": [],
   "source": [
    "블로그1=\"첫번째 블로그\"\n",
    "블로그2=\"두번재 블로그\"\n",
    "블로그3=\"셋번째 블로그\"\n",
    "제목=\"인공지능 학습센터\""
   ]
  },
  {
   "cell_type": "code",
   "execution_count": 40,
   "id": "62d911fb",
   "metadata": {},
   "outputs": [],
   "source": [
    "def blog_msg2(name,*blogs):\n",
    "    print(\"{}\".format(name))\n",
    "    for post in blogs:\n",
    "        print(\"제목{}{}\".format(name,post))\n",
    "    print(\"\\n\")   "
   ]
  },
  {
   "cell_type": "code",
   "execution_count": 43,
   "id": "eb6faf70",
   "metadata": {},
   "outputs": [
    {
     "name": "stdout",
     "output_type": "stream",
     "text": [
      "인공지능 학습센터\n",
      "제목인공지능 학습센터첫번째 블로그\n",
      "\n",
      "\n"
     ]
    }
   ],
   "source": [
    "blog_msg2(제목,블로그1)"
   ]
  },
  {
   "cell_type": "code",
   "execution_count": 63,
   "id": "1d01fb0b",
   "metadata": {},
   "outputs": [],
   "source": [
    "def blog_msg3(*blogs,name): #*별 표시가 없는것을 무조건 앞으로 순서를 고정시켜야한다\n",
    "    print(\"{}\".format(name))\n",
    "    for post in blogs:\n",
    "        print(\"제목{}{}\".format(name,post))\n",
    "    print(\"\\n\")"
   ]
  },
  {
   "cell_type": "code",
   "execution_count": 64,
   "id": "59a0f472",
   "metadata": {},
   "outputs": [
    {
     "ename": "TypeError",
     "evalue": "blog_msg3() missing 1 required keyword-only argument: 'name'",
     "output_type": "error",
     "traceback": [
      "\u001b[1;31m---------------------------------------------------------------------------\u001b[0m",
      "\u001b[1;31mTypeError\u001b[0m                                 Traceback (most recent call last)",
      "Input \u001b[1;32mIn [64]\u001b[0m, in \u001b[0;36m<cell line: 1>\u001b[1;34m()\u001b[0m\n\u001b[1;32m----> 1\u001b[0m \u001b[43mblog_msg3\u001b[49m\u001b[43m(\u001b[49m\u001b[43m블로그1\u001b[49m\u001b[43m,\u001b[49m\u001b[43m제목\u001b[49m\u001b[43m)\u001b[49m\n",
      "\u001b[1;31mTypeError\u001b[0m: blog_msg3() missing 1 required keyword-only argument: 'name'"
     ]
    }
   ],
   "source": [
    "blog_msg3(블로그1,제목)"
   ]
  },
  {
   "cell_type": "code",
   "execution_count": 71,
   "id": "b79e5354",
   "metadata": {},
   "outputs": [],
   "source": [
    "def blog_benefits(**blogs_benefits):\n",
    "    print(blog_benefits)\n",
    "    for name,benefits in blogs_benefits.items():\n",
    "        print(\"{}블로그 수익은 {} 입니다\".format(name,benefits))"
   ]
  },
  {
   "cell_type": "code",
   "execution_count": 72,
   "id": "c0618685",
   "metadata": {},
   "outputs": [
    {
     "name": "stdout",
     "output_type": "stream",
     "text": [
      "<function blog_benefits at 0x0000028225515A60>\n",
      "홍길동블로그 수익은 10 입니다\n",
      "이순신블로그 수익은 20 입니다\n",
      "강감찬블로그 수익은 30 입니다\n"
     ]
    }
   ],
   "source": [
    " blog_benefits(홍길동=10,이순신=20,강감찬=30) #딕셔너리 구조이기 때문에 items로 봐야 한다"
   ]
  },
  {
   "cell_type": "code",
   "execution_count": 76,
   "id": "713ff30b",
   "metadata": {},
   "outputs": [],
   "source": [
    "title=\"인공지능 학습센터\"\n",
    "blog1=\"첫번째 블로그\"\n",
    "blog2=\"두번재 블로그\"\n",
    "blog3=\"셋번째 블로그\"\n"
   ]
  },
  {
   "cell_type": "code",
   "execution_count": null,
   "id": "3fb49e48",
   "metadata": {},
   "outputs": [],
   "source": []
  },
  {
   "cell_type": "code",
   "execution_count": 85,
   "id": "d4b45c5d",
   "metadata": {},
   "outputs": [],
   "source": [
    "def blog_infomation(title,*blogs, **blogs_benefits):\n",
    "    print(\"블로그제목: {}\".format(title))\n",
    "    print(blog_benefits)\n",
    "    for post in blogs:\n",
    "        print(\"제목{}\".format(post))\n",
    "    for name,benefits in blogs_benefits.items():\n",
    "        print(\"{}블로그 수익은 {} 입니다\".format(name,benefits))"
   ]
  },
  {
   "cell_type": "code",
   "execution_count": 86,
   "id": "9988fe98",
   "metadata": {},
   "outputs": [
    {
     "name": "stdout",
     "output_type": "stream",
     "text": [
      "블로그제목: 인공지능 학습센터\n",
      "<function blog_benefits at 0x0000028225515A60>\n",
      "제목첫번째 블로그\n",
      "제목두번재 블로그\n",
      "제목셋번째 블로그\n",
      "홍길동블로그 수익은 10 입니다\n",
      "이순신블로그 수익은 20 입니다\n",
      "강감찬블로그 수익은 30 입니다\n"
     ]
    }
   ],
   "source": [
    "blog_infomation(title,blog1,blog2,blog3,홍길동=10,이순신=20,강감찬=30)"
   ]
  },
  {
   "cell_type": "code",
   "execution_count": null,
   "id": "1f10e6cc",
   "metadata": {},
   "outputs": [],
   "source": []
  }
 ],
 "metadata": {
  "kernelspec": {
   "display_name": "Python 3 (ipykernel)",
   "language": "python",
   "name": "python3"
  },
  "language_info": {
   "codemirror_mode": {
    "name": "ipython",
    "version": 3
   },
   "file_extension": ".py",
   "mimetype": "text/x-python",
   "name": "python",
   "nbconvert_exporter": "python",
   "pygments_lexer": "ipython3",
   "version": "3.9.12"
  },
  "toc": {
   "base_numbering": 1,
   "nav_menu": {},
   "number_sections": false,
   "sideBar": true,
   "skip_h1_title": false,
   "title_cell": "Table of Contents",
   "title_sidebar": "Contents",
   "toc_cell": false,
   "toc_position": {},
   "toc_section_display": true,
   "toc_window_display": false
  },
  "varInspector": {
   "cols": {
    "lenName": 16,
    "lenType": 16,
    "lenVar": 40
   },
   "kernels_config": {
    "python": {
     "delete_cmd_postfix": "",
     "delete_cmd_prefix": "del ",
     "library": "var_list.py",
     "varRefreshCmd": "print(var_dic_list())"
    },
    "r": {
     "delete_cmd_postfix": ") ",
     "delete_cmd_prefix": "rm(",
     "library": "var_list.r",
     "varRefreshCmd": "cat(var_dic_list()) "
    }
   },
   "types_to_exclude": [
    "module",
    "function",
    "builtin_function_or_method",
    "instance",
    "_Feature"
   ],
   "window_display": false
  }
 },
 "nbformat": 4,
 "nbformat_minor": 5
}

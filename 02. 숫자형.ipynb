{
 "cells": [
  {
   "cell_type": "markdown",
   "id": "d00e6921",
   "metadata": {},
   "source": [
    "a=123"
   ]
  },
  {
   "cell_type": "code",
   "execution_count": 188,
   "id": "81608273",
   "metadata": {},
   "outputs": [
    {
     "name": "stdout",
     "output_type": "stream",
     "text": [
      "123\n"
     ]
    }
   ],
   "source": [
    "print(a)"
   ]
  },
  {
   "cell_type": "code",
   "execution_count": 189,
   "id": "a5cb5feb",
   "metadata": {},
   "outputs": [],
   "source": [
    "a=-178"
   ]
  },
  {
   "cell_type": "code",
   "execution_count": 191,
   "id": "260e96f4",
   "metadata": {},
   "outputs": [
    {
     "data": {
      "text/plain": [
       "<function print>"
      ]
     },
     "execution_count": 191,
     "metadata": {},
     "output_type": "execute_result"
    }
   ],
   "source": [
    "print "
   ]
  },
  {
   "cell_type": "code",
   "execution_count": 192,
   "id": "7ec743b3",
   "metadata": {},
   "outputs": [
    {
     "data": {
      "text/plain": [
       "int"
      ]
     },
     "execution_count": 192,
     "metadata": {},
     "output_type": "execute_result"
    }
   ],
   "source": [
    "type (a)"
   ]
  },
  {
   "cell_type": "code",
   "execution_count": 198,
   "id": "c3aded51",
   "metadata": {},
   "outputs": [],
   "source": [
    "b=1,2"
   ]
  },
  {
   "cell_type": "code",
   "execution_count": 199,
   "id": "6efaef81",
   "metadata": {},
   "outputs": [
    {
     "name": "stdout",
     "output_type": "stream",
     "text": [
      "(1, 2)\n"
     ]
    }
   ],
   "source": [
    "print(b)"
   ]
  },
  {
   "cell_type": "code",
   "execution_count": 200,
   "id": "6eebb043",
   "metadata": {},
   "outputs": [
    {
     "data": {
      "text/plain": [
       "tuple"
      ]
     },
     "execution_count": 200,
     "metadata": {},
     "output_type": "execute_result"
    }
   ],
   "source": [
    "type(b)"
   ]
  },
  {
   "cell_type": "code",
   "execution_count": 202,
   "id": "8d8c1487",
   "metadata": {},
   "outputs": [],
   "source": [
    "b=4.2E10"
   ]
  },
  {
   "cell_type": "code",
   "execution_count": 203,
   "id": "1010901a",
   "metadata": {},
   "outputs": [
    {
     "name": "stdout",
     "output_type": "stream",
     "text": [
      "42000000000.0\n"
     ]
    }
   ],
   "source": [
    "print (b)"
   ]
  },
  {
   "cell_type": "code",
   "execution_count": 204,
   "id": "4dbe2ebc",
   "metadata": {},
   "outputs": [
    {
     "data": {
      "text/plain": [
       "float"
      ]
     },
     "execution_count": 204,
     "metadata": {},
     "output_type": "execute_result"
    }
   ],
   "source": [
    "type (b)"
   ]
  },
  {
   "cell_type": "code",
   "execution_count": 205,
   "id": "cf3c1aa7",
   "metadata": {},
   "outputs": [
    {
     "data": {
      "text/plain": [
       "(0, 1, 2, 3, 4, 5, 6, 7, 8, 9, 10)"
      ]
     },
     "execution_count": 205,
     "metadata": {},
     "output_type": "execute_result"
    }
   ],
   "source": [
    "0,1,2,3,4,5,6,7,10,11,12\n",
    "0, 1, 2, 3, 4,5, 6, 7, 8, 9,10\n"
   ]
  },
  {
   "cell_type": "code",
   "execution_count": 206,
   "id": "1212f387",
   "metadata": {},
   "outputs": [],
   "source": [
    "a=0o10"
   ]
  },
  {
   "cell_type": "code",
   "execution_count": 207,
   "id": "be0baf29",
   "metadata": {},
   "outputs": [
    {
     "name": "stdout",
     "output_type": "stream",
     "text": [
      "8\n"
     ]
    }
   ],
   "source": [
    "print  (a)"
   ]
  },
  {
   "cell_type": "markdown",
   "id": "b66505e4",
   "metadata": {},
   "source": [
    "a=0o12\n",
    "print(a)"
   ]
  },
  {
   "cell_type": "markdown",
   "id": "357410dd",
   "metadata": {},
   "source": [
    "0,1,2,3,4,5,6,7,8,9,10,12\n",
    "0,1,2,3,4,5,6,7,8,9 A,B,C,D,E,f"
   ]
  },
  {
   "cell_type": "code",
   "execution_count": 209,
   "id": "a97906f6",
   "metadata": {},
   "outputs": [
    {
     "name": "stdout",
     "output_type": "stream",
     "text": [
      "15\n"
     ]
    }
   ],
   "source": [
    "a=0xf\n",
    "print (a)"
   ]
  },
  {
   "cell_type": "code",
   "execution_count": 210,
   "id": "5eeb068e",
   "metadata": {},
   "outputs": [
    {
     "name": "stdout",
     "output_type": "stream",
     "text": [
      "255\n"
     ]
    }
   ],
   "source": [
    "a=0xff\n",
    "print (a)"
   ]
  },
  {
   "cell_type": "code",
   "execution_count": 212,
   "id": "59866853",
   "metadata": {
    "scrolled": true
   },
   "outputs": [
    {
     "name": "stdout",
     "output_type": "stream",
     "text": [
      "2748\n"
     ]
    }
   ],
   "source": [
    "a=0xabc\n",
    "print (a)"
   ]
  },
  {
   "cell_type": "markdown",
   "id": "97bed96a",
   "metadata": {},
   "source": [
    "사칙연산"
   ]
  },
  {
   "cell_type": "code",
   "execution_count": 213,
   "id": "02ae9008",
   "metadata": {},
   "outputs": [
    {
     "data": {
      "text/plain": [
       "3"
      ]
     },
     "execution_count": 213,
     "metadata": {},
     "output_type": "execute_result"
    }
   ],
   "source": [
    "1+2\n"
   ]
  },
  {
   "cell_type": "code",
   "execution_count": 214,
   "id": "32cdc14d",
   "metadata": {},
   "outputs": [
    {
     "data": {
      "text/plain": [
       "3"
      ]
     },
     "execution_count": 214,
     "metadata": {},
     "output_type": "execute_result"
    }
   ],
   "source": [
    "a=1\n",
    "b=2\n",
    "a+b"
   ]
  },
  {
   "cell_type": "code",
   "execution_count": 215,
   "id": "a90ecee7",
   "metadata": {},
   "outputs": [
    {
     "name": "stdout",
     "output_type": "stream",
     "text": [
      "3\n"
     ]
    }
   ],
   "source": [
    "print(a+b)"
   ]
  },
  {
   "cell_type": "code",
   "execution_count": 218,
   "id": "5aa4fb58",
   "metadata": {},
   "outputs": [
    {
     "name": "stdout",
     "output_type": "stream",
     "text": [
      "1\n",
      "2\n",
      "3\n"
     ]
    }
   ],
   "source": [
    "print (a)\n",
    "print (b)\n",
    "print (a+b)"
   ]
  },
  {
   "cell_type": "code",
   "execution_count": 1,
   "id": "56192e07",
   "metadata": {},
   "outputs": [
    {
     "ename": "NameError",
     "evalue": "name 'a' is not defined",
     "output_type": "error",
     "traceback": [
      "\u001b[1;31m---------------------------------------------------------------------------\u001b[0m",
      "\u001b[1;31mNameError\u001b[0m                                 Traceback (most recent call last)",
      "Input \u001b[1;32mIn [1]\u001b[0m, in \u001b[0;36m<cell line: 1>\u001b[1;34m()\u001b[0m\n\u001b[1;32m----> 1\u001b[0m \u001b[38;5;28mprint\u001b[39m (\u001b[43ma\u001b[49m)\n\u001b[0;32m      2\u001b[0m \u001b[38;5;28mprint\u001b[39m (b)\n\u001b[0;32m      3\u001b[0m \u001b[38;5;28mprint\u001b[39m (a\u001b[38;5;241m+\u001b[39mb)\n",
      "\u001b[1;31mNameError\u001b[0m: name 'a' is not defined"
     ]
    }
   ],
   "source": [
    "print (a)\n",
    "print (b)\n",
    "print (a+b)\n"
   ]
  },
  {
   "cell_type": "code",
   "execution_count": null,
   "id": "806ceacf",
   "metadata": {},
   "outputs": [],
   "source": [
    "print ()"
   ]
  },
  {
   "cell_type": "code",
   "execution_count": 219,
   "id": "797cc77c",
   "metadata": {},
   "outputs": [
    {
     "name": "stdout",
     "output_type": "stream",
     "text": [
      "2\n"
     ]
    }
   ],
   "source": [
    "print (a*b)"
   ]
  },
  {
   "cell_type": "code",
   "execution_count": 220,
   "id": "4b45b049",
   "metadata": {},
   "outputs": [
    {
     "name": "stdout",
     "output_type": "stream",
     "text": [
      "0.5\n"
     ]
    }
   ],
   "source": [
    "print (a/b)"
   ]
  },
  {
   "cell_type": "code",
   "execution_count": 221,
   "id": "5587eb67",
   "metadata": {},
   "outputs": [
    {
     "name": "stdout",
     "output_type": "stream",
     "text": [
      "-1\n"
     ]
    }
   ],
   "source": [
    "print (a-b)"
   ]
  },
  {
   "cell_type": "code",
   "execution_count": 222,
   "id": "c60635df",
   "metadata": {},
   "outputs": [],
   "source": [
    "a=2\n",
    "b=3"
   ]
  },
  {
   "cell_type": "code",
   "execution_count": 223,
   "id": "6384c3c5",
   "metadata": {},
   "outputs": [
    {
     "data": {
      "text/plain": [
       "9"
      ]
     },
     "execution_count": 223,
     "metadata": {},
     "output_type": "execute_result"
    }
   ],
   "source": [
    "b**a#3**2"
   ]
  },
  {
   "cell_type": "code",
   "execution_count": 224,
   "id": "bcadb0de",
   "metadata": {},
   "outputs": [
    {
     "name": "stdout",
     "output_type": "stream",
     "text": [
      "9\n"
     ]
    }
   ],
   "source": [
    "print (b**a)"
   ]
  },
  {
   "cell_type": "code",
   "execution_count": 225,
   "id": "927a6839",
   "metadata": {},
   "outputs": [
    {
     "name": "stdout",
     "output_type": "stream",
     "text": [
      "1\n"
     ]
    }
   ],
   "source": [
    "print(7%3)"
   ]
  },
  {
   "cell_type": "code",
   "execution_count": 226,
   "id": "b0783dac",
   "metadata": {},
   "outputs": [
    {
     "name": "stdout",
     "output_type": "stream",
     "text": [
      "3\n"
     ]
    }
   ],
   "source": [
    "print (3%7)"
   ]
  },
  {
   "cell_type": "code",
   "execution_count": 227,
   "id": "7f3616b2",
   "metadata": {},
   "outputs": [
    {
     "name": "stdout",
     "output_type": "stream",
     "text": [
      "1.75\n"
     ]
    }
   ],
   "source": [
    "print (7/4)"
   ]
  },
  {
   "cell_type": "code",
   "execution_count": 228,
   "id": "b96ccd34",
   "metadata": {},
   "outputs": [
    {
     "name": "stdout",
     "output_type": "stream",
     "text": [
      "1\n"
     ]
    }
   ],
   "source": [
    "print (7//4)"
   ]
  },
  {
   "cell_type": "code",
   "execution_count": 229,
   "id": "b5cdad01",
   "metadata": {},
   "outputs": [
    {
     "name": "stdout",
     "output_type": "stream",
     "text": [
      "2\n"
     ]
    }
   ],
   "source": [
    "print (8//4)"
   ]
  },
  {
   "cell_type": "markdown",
   "id": "08efb7cb",
   "metadata": {},
   "source": [
    "# 문자형자료형\n"
   ]
  },
  {
   "cell_type": "code",
   "execution_count": 230,
   "id": "0ab4bddc",
   "metadata": {},
   "outputs": [
    {
     "data": {
      "text/plain": [
       "'안녕하세요'"
      ]
     },
     "execution_count": 230,
     "metadata": {},
     "output_type": "execute_result"
    }
   ],
   "source": [
    "\"안녕하세요\""
   ]
  },
  {
   "cell_type": "code",
   "execution_count": null,
   "id": "0dd8bbab",
   "metadata": {},
   "outputs": [],
   "source": [
    "print (\"안녕하세요\")"
   ]
  },
  {
   "cell_type": "code",
   "execution_count": 231,
   "id": "be671631",
   "metadata": {},
   "outputs": [],
   "source": [
    "a=\"안녕하세요\""
   ]
  },
  {
   "cell_type": "code",
   "execution_count": 232,
   "id": "c61f3941",
   "metadata": {},
   "outputs": [
    {
     "name": "stdout",
     "output_type": "stream",
     "text": [
      "안녕하세요\n"
     ]
    }
   ],
   "source": [
    "print(\"안녕하세요\")"
   ]
  },
  {
   "cell_type": "code",
   "execution_count": 233,
   "id": "4e0871f9",
   "metadata": {},
   "outputs": [
    {
     "name": "stdout",
     "output_type": "stream",
     "text": [
      "안녕하세요\n"
     ]
    }
   ],
   "source": [
    "a='안녕하세요'\n",
    "print(a)"
   ]
  },
  {
   "cell_type": "code",
   "execution_count": 234,
   "id": "c3634f0f",
   "metadata": {},
   "outputs": [
    {
     "data": {
      "text/plain": [
       "'안녕하세요'"
      ]
     },
     "execution_count": 234,
     "metadata": {},
     "output_type": "execute_result"
    }
   ],
   "source": [
    "print(\"\"\"안녕하세요\"\"\")\n"
   ]
  },
  {
   "cell_type": "code",
   "execution_count": 235,
   "id": "ecd3199a",
   "metadata": {},
   "outputs": [
    {
     "data": {
      "text/plain": [
       "'안녕하세요'"
      ]
     },
     "execution_count": 235,
     "metadata": {},
     "output_type": "execute_result"
    }
   ],
   "source": [
    "print ('안녕하세요')"
   ]
  },
  {
   "cell_type": "code",
   "execution_count": 237,
   "id": "e7854f5f",
   "metadata": {},
   "outputs": [
    {
     "name": "stdout",
     "output_type": "stream",
     "text": [
      "나는python's을 학습 합니다\n"
     ]
    }
   ],
   "source": [
    "print(\"나는python's을 학습 합니다\")"
   ]
  },
  {
   "cell_type": "code",
   "execution_count": 238,
   "id": "4fe715ae",
   "metadata": {},
   "outputs": [
    {
     "name": "stdout",
     "output_type": "stream",
     "text": [
      "나는 pyhon\"s을 학습 합니다\n"
     ]
    }
   ],
   "source": [
    "print('나는 pyhon\"s을 학습 합니다')"
   ]
  },
  {
   "cell_type": "code",
   "execution_count": 242,
   "id": "e2c182fa",
   "metadata": {},
   "outputs": [],
   "source": [
    "mutiline=\"\"\"\n",
    "life is too sgort \n",
    "you need pythoo\n",
    "\"\"\""
   ]
  },
  {
   "cell_type": "code",
   "execution_count": null,
   "id": "5f859100",
   "metadata": {},
   "outputs": [],
   "source": []
  },
  {
   "cell_type": "code",
   "execution_count": 244,
   "id": "c834b8f0",
   "metadata": {},
   "outputs": [
    {
     "name": "stdout",
     "output_type": "stream",
     "text": [
      "\n",
      "life is too sgort \n",
      "you need pythoo\n",
      "\n"
     ]
    }
   ],
   "source": [
    "print (mutiline)"
   ]
  },
  {
   "cell_type": "code",
   "execution_count": 253,
   "id": "31fe6565",
   "metadata": {},
   "outputs": [],
   "source": [
    "one_line ='life is too shrt\\r you need pythoon'"
   ]
  },
  {
   "cell_type": "code",
   "execution_count": 254,
   "id": "d57a4f1d",
   "metadata": {
    "scrolled": true
   },
   "outputs": [
    {
     "name": "stdout",
     "output_type": "stream",
     "text": [
      "life is too shrt\r",
      " you need pythoon\n"
     ]
    }
   ],
   "source": [
    "print(one_line)"
   ]
  },
  {
   "cell_type": "code",
   "execution_count": null,
   "id": "91afe13e",
   "metadata": {},
   "outputs": [],
   "source": []
  }
 ],
 "metadata": {
  "kernelspec": {
   "display_name": "Python 3 (ipykernel)",
   "language": "python",
   "name": "python3"
  },
  "language_info": {
   "codemirror_mode": {
    "name": "ipython",
    "version": 3
   },
   "file_extension": ".py",
   "mimetype": "text/x-python",
   "name": "python",
   "nbconvert_exporter": "python",
   "pygments_lexer": "ipython3",
   "version": "3.9.12"
  }
 },
 "nbformat": 4,
 "nbformat_minor": 5
}

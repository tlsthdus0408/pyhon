{
 "cells": [
  {
   "cell_type": "code",
   "execution_count": 1,
   "id": "a90a1db9",
   "metadata": {},
   "outputs": [
    {
     "data": {
      "text/plain": [
       "315.942"
      ]
     },
     "execution_count": 1,
     "metadata": {},
     "output_type": "execute_result"
    }
   ],
   "source": [
    "3.15942*10.0*10.0"
   ]
  },
  {
   "cell_type": "code",
   "execution_count": 2,
   "id": "08189526",
   "metadata": {},
   "outputs": [
    {
     "name": "stdout",
     "output_type": "stream",
     "text": [
      "315.942\n",
      "1\n",
      "2\n"
     ]
    }
   ],
   "source": [
    "print(3.15942*10.0*10.0)\n",
    "a=1\n",
    "print(a)\n",
    "b=2\n",
    "print(b)"
   ]
  },
  {
   "cell_type": "code",
   "execution_count": 3,
   "id": "ce54f725",
   "metadata": {},
   "outputs": [
    {
     "data": {
      "text/plain": [
       "123.54"
      ]
     },
     "execution_count": 3,
     "metadata": {},
     "output_type": "execute_result"
    }
   ],
   "source": [
    "1/100*12354"
   ]
  },
  {
   "cell_type": "code",
   "execution_count": 4,
   "id": "320a4fd3",
   "metadata": {},
   "outputs": [
    {
     "data": {
      "text/plain": [
       "12.34"
      ]
     },
     "execution_count": 4,
     "metadata": {},
     "output_type": "execute_result"
    }
   ],
   "source": [
    "(1/100)*1234"
   ]
  },
  {
   "cell_type": "code",
   "execution_count": 6,
   "id": "d1b44114",
   "metadata": {},
   "outputs": [],
   "source": [
    "a=\"강아지\"\n",
    "b=\"고양이\"\n"
   ]
  },
  {
   "cell_type": "code",
   "execution_count": 7,
   "id": "c5d4e6c6",
   "metadata": {},
   "outputs": [
    {
     "name": "stdout",
     "output_type": "stream",
     "text": [
      "강아지\n"
     ]
    }
   ],
   "source": [
    "print (a)"
   ]
  },
  {
   "cell_type": "code",
   "execution_count": 8,
   "id": "1922520f",
   "metadata": {},
   "outputs": [
    {
     "name": "stdout",
     "output_type": "stream",
     "text": [
      "고양이\n"
     ]
    }
   ],
   "source": [
    "print(b)"
   ]
  },
  {
   "cell_type": "code",
   "execution_count": 9,
   "id": "165fa9eb",
   "metadata": {},
   "outputs": [
    {
     "name": "stdout",
     "output_type": "stream",
     "text": [
      "강아지고양이\n"
     ]
    }
   ],
   "source": [
    "print(a+b)"
   ]
  },
  {
   "cell_type": "code",
   "execution_count": 10,
   "id": "11ca983e",
   "metadata": {},
   "outputs": [],
   "source": [
    "c=1\n",
    "d=2"
   ]
  },
  {
   "cell_type": "code",
   "execution_count": 11,
   "id": "50bf1767",
   "metadata": {},
   "outputs": [
    {
     "data": {
      "text/plain": [
       "3"
      ]
     },
     "execution_count": 11,
     "metadata": {},
     "output_type": "execute_result"
    }
   ],
   "source": [
    "c+d"
   ]
  },
  {
   "cell_type": "code",
   "execution_count": 14,
   "id": "8f3cc73d",
   "metadata": {},
   "outputs": [],
   "source": [
    "e=True"
   ]
  },
  {
   "cell_type": "code",
   "execution_count": 15,
   "id": "bb6389eb",
   "metadata": {},
   "outputs": [],
   "source": [
    "f=False"
   ]
  },
  {
   "cell_type": "code",
   "execution_count": 16,
   "id": "bbb6539d",
   "metadata": {},
   "outputs": [
    {
     "name": "stdout",
     "output_type": "stream",
     "text": [
      "True\n"
     ]
    }
   ],
   "source": [
    "print(e)"
   ]
  },
  {
   "cell_type": "code",
   "execution_count": 17,
   "id": "2734e677",
   "metadata": {},
   "outputs": [
    {
     "data": {
      "text/plain": [
       "bool"
      ]
     },
     "execution_count": 17,
     "metadata": {},
     "output_type": "execute_result"
    }
   ],
   "source": [
    "type (e)"
   ]
  },
  {
   "cell_type": "code",
   "execution_count": 18,
   "id": "851e6ed2",
   "metadata": {},
   "outputs": [
    {
     "name": "stdout",
     "output_type": "stream",
     "text": [
      "False\n"
     ]
    }
   ],
   "source": [
    "print(f)"
   ]
  },
  {
   "cell_type": "code",
   "execution_count": 19,
   "id": "ea9e1d01",
   "metadata": {},
   "outputs": [
    {
     "name": "stdout",
     "output_type": "stream",
     "text": [
      "hello\n"
     ]
    }
   ],
   "source": [
    "print(\"hello\")"
   ]
  },
  {
   "cell_type": "code",
   "execution_count": 24,
   "id": "ea8f4a3d",
   "metadata": {},
   "outputs": [
    {
     "name": "stdout",
     "output_type": "stream",
     "text": [
      "결과값은 14 입니다\n"
     ]
    }
   ],
   "source": [
    "print(\"결과값은\", 2*7,'입니다')"
   ]
  },
  {
   "cell_type": "code",
   "execution_count": 25,
   "id": "2abf632b",
   "metadata": {},
   "outputs": [
    {
     "name": "stdout",
     "output_type": "stream",
     "text": [
      "100200\n"
     ]
    }
   ],
   "source": [
    "print(\"100\"+\"200\")"
   ]
  },
  {
   "cell_type": "code",
   "execution_count": 27,
   "id": "b8a76862",
   "metadata": {},
   "outputs": [
    {
     "name": "stdout",
     "output_type": "stream",
     "text": [
      "반가워요\n",
      "반가워요\n",
      "반가워요\n",
      "반가워요\n",
      "반가워요\n",
      "반가워요\n",
      "반가워요\n",
      "반가워요\n",
      "반가워요\n",
      "반가워요\n",
      "반가워요\n",
      "반가워요\n",
      "반가워요\n",
      "반가워요\n",
      "반가워요\n",
      "반가워요\n",
      "반가워요\n",
      "반가워요\n",
      "반가워요\n",
      "반가워요\n",
      "\n"
     ]
    }
   ],
   "source": [
    "print(\"반가워요\\n\"*20)"
   ]
  },
  {
   "cell_type": "code",
   "execution_count": 1,
   "id": "a323e7a1",
   "metadata": {},
   "outputs": [],
   "source": [
    "x=100\n",
    "y=200"
   ]
  },
  {
   "cell_type": "code",
   "execution_count": 2,
   "id": "28d1d4fa",
   "metadata": {},
   "outputs": [
    {
     "name": "stdout",
     "output_type": "stream",
     "text": [
      "300\n"
     ]
    }
   ],
   "source": [
    "sum=x+y\n",
    "print(sum)"
   ]
  },
  {
   "cell_type": "code",
   "execution_count": 3,
   "id": "fd17dc7c",
   "metadata": {},
   "outputs": [
    {
     "name": "stdout",
     "output_type": "stream",
     "text": [
      "100\n"
     ]
    }
   ],
   "source": [
    "print(x)"
   ]
  },
  {
   "cell_type": "code",
   "execution_count": 5,
   "id": "0657f862",
   "metadata": {},
   "outputs": [
    {
     "name": "stdout",
     "output_type": "stream",
     "text": [
      "300\n"
     ]
    }
   ],
   "source": [
    "print (x+y)"
   ]
  },
  {
   "cell_type": "code",
   "execution_count": 7,
   "id": "aa0ab92f",
   "metadata": {},
   "outputs": [
    {
     "name": "stdout",
     "output_type": "stream",
     "text": [
      "300\n"
     ]
    }
   ],
   "source": [
    "print (sum)"
   ]
  },
  {
   "cell_type": "code",
   "execution_count": 10,
   "id": "ef530493",
   "metadata": {},
   "outputs": [],
   "source": [
    "name=\"신소연\"\n",
    "addenes=\"서울시 종로구 1번지\""
   ]
  },
  {
   "cell_type": "code",
   "execution_count": 11,
   "id": "988c3191",
   "metadata": {},
   "outputs": [
    {
     "name": "stdout",
     "output_type": "stream",
     "text": [
      "신소연서울시 종로구 1번지\n"
     ]
    }
   ],
   "source": [
    "print(name+addenes)"
   ]
  },
  {
   "cell_type": "code",
   "execution_count": 13,
   "id": "5974069a",
   "metadata": {},
   "outputs": [
    {
     "name": "stdout",
     "output_type": "stream",
     "text": [
      "13\n"
     ]
    }
   ],
   "source": [
    "x=7\n",
    "y=6\n",
    "print(x+y)"
   ]
  },
  {
   "cell_type": "code",
   "execution_count": 14,
   "id": "12527b22",
   "metadata": {},
   "outputs": [
    {
     "name": "stdout",
     "output_type": "stream",
     "text": [
      "67\n"
     ]
    }
   ],
   "source": [
    "x='7'\n",
    "y='6'\n",
    "print(y+x)"
   ]
  },
  {
   "cell_type": "markdown",
   "id": "ae4779cb",
   "metadata": {},
   "source": [
    "score=10\n",
    "score=score+1"
   ]
  },
  {
   "cell_type": "code",
   "execution_count": 18,
   "id": "cfcb9f39",
   "metadata": {},
   "outputs": [
    {
     "name": "stdout",
     "output_type": "stream",
     "text": [
      "11\n"
     ]
    }
   ],
   "source": [
    "score=10\n",
    "score=score+1\n",
    "print(score)"
   ]
  },
  {
   "cell_type": "code",
   "execution_count": 36,
   "id": "8f6247ef",
   "metadata": {},
   "outputs": [
    {
     "name": "stdout",
     "output_type": "stream",
     "text": [
      "29\n"
     ]
    }
   ],
   "source": [
    "score=score+1\n",
    "print(score*1)"
   ]
  },
  {
   "cell_type": "code",
   "execution_count": 37,
   "id": "3b40bc87",
   "metadata": {},
   "outputs": [
    {
     "name": "stdout",
     "output_type": "stream",
     "text": [
      "100 과 200 의 합은 300 입니다\n"
     ]
    }
   ],
   "source": [
    "x=100\n",
    "y=200\n",
    "sum=x+y\n",
    "print(x,\"과\",y,\"의 합은\",sum,\"입니다\")"
   ]
  },
  {
   "cell_type": "code",
   "execution_count": 40,
   "id": "21afb77d",
   "metadata": {},
   "outputs": [
    {
     "name": "stdout",
     "output_type": "stream",
     "text": [
      "300 과 400 의 합은 700 입니다\n"
     ]
    }
   ],
   "source": [
    "x=300\n",
    "y=400\n",
    "sum=x+y\n",
    "print(x,\"과\",y,\"의 합은\",sum,\"입니다\")"
   ]
  },
  {
   "cell_type": "code",
   "execution_count": 53,
   "id": "b59b731d",
   "metadata": {},
   "outputs": [
    {
     "name": "stdout",
     "output_type": "stream",
     "text": [
      "x의값을 입력하시여300\n",
      "y의값을 입력하시여10000\n",
      "x와 y의 합은 10300 입니다\n"
     ]
    }
   ],
   "source": [
    "x=int(input(\"x의값을 입력하시여\"))\n",
    "y=int(input(\"y의값을 입력하시여\"))\n",
    "sum=x+y\n",
    "print(\"x와 y의 합은\",sum,\"입니다\")"
   ]
  },
  {
   "cell_type": "code",
   "execution_count": 44,
   "id": "16586f17",
   "metadata": {},
   "outputs": [
    {
     "name": "stdout",
     "output_type": "stream",
     "text": [
      "100\n"
     ]
    }
   ],
   "source": [
    "print(x)"
   ]
  },
  {
   "cell_type": "code",
   "execution_count": 45,
   "id": "1d63cd9e",
   "metadata": {},
   "outputs": [
    {
     "data": {
      "text/plain": [
       "str"
      ]
     },
     "execution_count": 45,
     "metadata": {},
     "output_type": "execute_result"
    }
   ],
   "source": [
    "type (x)"
   ]
  },
  {
   "cell_type": "code",
   "execution_count": 2,
   "id": "c6a94569",
   "metadata": {},
   "outputs": [
    {
     "name": "stdout",
     "output_type": "stream",
     "text": [
      "이름을 입력하세여신소연\n",
      "신소연 씨,안녕하세요? \n",
      " 인공지능학원에 오신걸 환영합니다.\n",
      "첫번째 정수를 입력해주셔요100\n",
      "두번째 정수를 입력해주세여5000\n",
      "100 과 5000 합은 5100 입니다\n"
     ]
    }
   ],
   "source": [
    "name=input(\"이름을 입력하세여\")\n",
    "print(name,\"씨,안녕하세요?\",\"\\n 인공지능학원에 오신걸 환영합니다.\")\n",
    "x=int(input(\"첫번째 정수를 입력해주셔요\"))\n",
    "y=int(input(\"두번째 정수를 입력해주세여\"))\n",
    "sum=x+y\n",
    "print(x,\"과\",y,\"합은\",sum,\"입니다\")"
   ]
  },
  {
   "cell_type": "code",
   "execution_count": null,
   "id": "24882808",
   "metadata": {},
   "outputs": [],
   "source": [
    "\n"
   ]
  },
  {
   "cell_type": "code",
   "execution_count": null,
   "id": "c7aad3d3",
   "metadata": {},
   "outputs": [],
   "source": [
    "q=0"
   ]
  },
  {
   "cell_type": "code",
   "execution_count": null,
   "id": "b206fa4d",
   "metadata": {},
   "outputs": [],
   "source": [
    "p=int(input(\"분자를 입력하시여\"))\n",
    "q=int(input(\"분모를 입력하시요\"))\n",
    "print(\"나눗셈의 몫 =\",p/q)\n",
    "print(\"나눗셈의 나머지=\",p%q)"
   ]
  },
  {
   "cell_type": "markdown",
   "id": "7e474b44",
   "metadata": {},
   "source": [
    "나머지 연산자의 용도\n"
   ]
  },
  {
   "cell_type": "code",
   "execution_count": 1,
   "id": "d8c7003f",
   "metadata": {},
   "outputs": [
    {
     "name": "stdout",
     "output_type": "stream",
     "text": [
      "정수를 입력하시여6\n",
      "0\n"
     ]
    }
   ],
   "source": [
    "num=int(input(\"정수를 입력하시여\"))\n",
    "print(num%2)"
   ]
  },
  {
   "cell_type": "code",
   "execution_count": 25,
   "id": "a2dcb4f7",
   "metadata": {},
   "outputs": [
    {
     "name": "stdout",
     "output_type": "stream",
     "text": [
      "16 분 40 초\n"
     ]
    }
   ],
   "source": [
    "sec=10000\n",
    "min=1000//60\n",
    "remainder=sec%60\n",
    "print (min,\"분\",remainder,\"초\")"
   ]
  },
  {
   "cell_type": "code",
   "execution_count": 1,
   "id": "f9446335",
   "metadata": {},
   "outputs": [
    {
     "name": "stdout",
     "output_type": "stream",
     "text": [
      "아메리카노 판매 갯수:10\n",
      "카페라떼 판매 갯수 :10\n",
      "카푸치노 판매 갯수:10\n",
      "총 매출은 7030 입니다\n"
     ]
    }
   ],
   "source": [
    "아메리카노단가 = 2000\n",
    "카페라떼단가 = 3000\n",
    "카푸치노단가 = 2000\n",
    "아메이카노 = int(input(\"아메리카노 판매 갯수:\"))\n",
    "카페라떼 = int(input(\"카페라떼 판매 갯수 :\"))\n",
    "카푸치노 = int(input(\"카푸치노 판매 갯수:\"))\n",
    "총매출 = 아메리카노단가 + 아메이카노\n",
    "총매출 = 총매출 + 카페라떼단가 + 카페라떼\n",
    "총매출 = 총매출 + 카푸치노단가 + 카푸치노\n",
    "print(\"총 매출은\", 총매출,\"입니다\")\n"
   ]
  },
  {
   "cell_type": "code",
   "execution_count": 7,
   "id": "a64d2483",
   "metadata": {
    "scrolled": true
   },
   "outputs": [
    {
     "name": "stdout",
     "output_type": "stream",
     "text": [
      "화씨온도를 입력해주세요100\n",
      "화씨온도는 100\n",
      "섭씨온도는 37.77777777777778 입니다\n"
     ]
    }
   ],
   "source": [
    "화씨온도=int(input(\"화씨온도를 입력해주세요\"))\n",
    "섭씨온도=(화씨온도-32)/1.8\n",
    "print(\"화씨온도는\",화씨온도)\n",
    "print (\"섭씨온도는\" ,섭씨온도,\"입니다\")"
   ]
  },
  {
   "cell_type": "code",
   "execution_count": 1,
   "id": "f86fb305",
   "metadata": {},
   "outputs": [
    {
     "name": "stdout",
     "output_type": "stream",
     "text": [
      "몸무계를입력해주세요85\n",
      "키를미터단위입력해주세요165\n",
      "당신의 BMI은 0.0031221303948576677\n"
     ]
    }
   ],
   "source": [
    "kg=float(input(\"몸무계를입력해주세요\"))\n",
    "cm=float(input(\"키를미터단위입력해주세요\"))\n",
    "bmi=kg/cm**2\n",
    "print(\"당신의 BMI은\",bmi)"
   ]
  },
  {
   "cell_type": "code",
   "execution_count": 2,
   "id": "acf31588",
   "metadata": {},
   "outputs": [
    {
     "name": "stdout",
     "output_type": "stream",
     "text": [
      "투입한 돈: 1000000\n",
      "물건값: 20000\n",
      "거스름돈:  980000\n",
      "500원 동전의 개수: 1960\n",
      "100원 동전의 개수: 0\n"
     ]
    }
   ],
   "source": [
    "money = int(input(\"투입한 돈: \"))\n",
    "price = int(input(\"물건값: \"))\n",
    "change = money - price\n",
    "print(\"거스름돈: \", change)\n",
    "coin500s = change // 500  # 500으로 나누어서 몫이 500원짜리의 개수\n",
    "change = change % 500    # 500으로 나눈 나머지를 계산한다.\n",
    "coin100s = change // 100 # 100으로 나누어서 몫이 100원짜리의 개수\n",
    "print(\"500원 동전의 개수:\", coin500s)\n",
    "print(\"100원 동전의 개수:\", coin100s)"
   ]
  },
  {
   "cell_type": "code",
   "execution_count": 4,
   "id": "f7887125",
   "metadata": {},
   "outputs": [
    {
     "data": {
      "text/plain": [
       "1628.894626777442"
      ]
     },
     "execution_count": 4,
     "metadata": {},
     "output_type": "execute_result"
    }
   ],
   "source": [
    "a=1000\n",
    "r=0.05\n",
    "n=10\n",
    "a*(1+r)**n"
   ]
  },
  {
   "cell_type": "code",
   "execution_count": 7,
   "id": "81f3cb55",
   "metadata": {},
   "outputs": [],
   "source": [
    "num=1"
   ]
  },
  {
   "cell_type": "code",
   "execution_count": 10,
   "id": "e5bb6277",
   "metadata": {},
   "outputs": [],
   "source": [
    "num=num+1"
   ]
  },
  {
   "cell_type": "code",
   "execution_count": 11,
   "id": "dfe2fa3e",
   "metadata": {},
   "outputs": [
    {
     "name": "stdout",
     "output_type": "stream",
     "text": [
      "2\n"
     ]
    }
   ],
   "source": [
    "print(num)"
   ]
  },
  {
   "cell_type": "code",
   "execution_count": 12,
   "id": "c5aadd76",
   "metadata": {},
   "outputs": [],
   "source": [
    "num+=1"
   ]
  },
  {
   "cell_type": "code",
   "execution_count": 13,
   "id": "8a1a3c99",
   "metadata": {},
   "outputs": [
    {
     "name": "stdout",
     "output_type": "stream",
     "text": [
      "3\n"
     ]
    }
   ],
   "source": [
    "print(num)"
   ]
  },
  {
   "cell_type": "code",
   "execution_count": 14,
   "id": "9b6d1101",
   "metadata": {},
   "outputs": [],
   "source": [
    "num-=1"
   ]
  },
  {
   "cell_type": "code",
   "execution_count": 15,
   "id": "a7bdd49a",
   "metadata": {},
   "outputs": [
    {
     "name": "stdout",
     "output_type": "stream",
     "text": [
      "2\n"
     ]
    }
   ],
   "source": [
    "print(num)"
   ]
  },
  {
   "cell_type": "code",
   "execution_count": 17,
   "id": "bb268418",
   "metadata": {},
   "outputs": [
    {
     "name": "stdout",
     "output_type": "stream",
     "text": [
      "초깃값은x= 1000\n",
      "x+2=2후의 x= 1002\n",
      "x-2=2후의 1000\n"
     ]
    }
   ],
   "source": [
    "x=1000\n",
    "print(\"초깃값은x=\",x)\n",
    "x+=2#-x=+2\n",
    "print(\"x+2=2후의 x=\",x)\n",
    "x-=2\n",
    "print(\"x-2=2후의\",x)"
   ]
  },
  {
   "cell_type": "code",
   "execution_count": 18,
   "id": "80a39e9a",
   "metadata": {},
   "outputs": [],
   "source": [
    "x=10\n",
    "y=20\n",
    "z=30"
   ]
  },
  {
   "cell_type": "code",
   "execution_count": 20,
   "id": "a68404ea",
   "metadata": {},
   "outputs": [
    {
     "data": {
      "text/plain": [
       "900"
      ]
     },
     "execution_count": 20,
     "metadata": {},
     "output_type": "execute_result"
    }
   ],
   "source": [
    "(x+y)*z\n"
   ]
  },
  {
   "cell_type": "markdown",
   "id": "4d2ac471",
   "metadata": {},
   "source": [
    "128,64,32,16,8,4,2,1\n",
    "  0  1 1  0 0 0 0 1\n",
    "  \n",
    " 7,   6, 5,  4,  , 2, 1,0\n"
   ]
  },
  {
   "cell_type": "markdown",
   "id": "fbebd245",
   "metadata": {},
   "source": [
    "97=61\n"
   ]
  },
  {
   "cell_type": "code",
   "execution_count": 23,
   "id": "994cbac3",
   "metadata": {},
   "outputs": [],
   "source": [
    "a=\"a\""
   ]
  },
  {
   "cell_type": "code",
   "execution_count": 24,
   "id": "40af35a7",
   "metadata": {},
   "outputs": [
    {
     "name": "stdout",
     "output_type": "stream",
     "text": [
      "첫번재수를 입력하시요7\n",
      "두번째수를입력하시요7\n",
      "셋번재수를 입력하시요7\n",
      "7.0\n"
     ]
    }
   ],
   "source": [
    "x=int(input(\"첫번재수를 입력하시요\"))\n",
    "y=int(input(\"두번째수를입력하시요\"))\n",
    "z=int(input(\"셋번재수를 입력하시요\"))\n",
    "q=(x+y+z)/3\n",
    "print(q)"
   ]
  },
  {
   "cell_type": "code",
   "execution_count": null,
   "id": "2b550ac5",
   "metadata": {},
   "outputs": [],
   "source": []
  }
 ],
 "metadata": {
  "kernelspec": {
   "display_name": "Python 3 (ipykernel)",
   "language": "python",
   "name": "python3"
  },
  "language_info": {
   "codemirror_mode": {
    "name": "ipython",
    "version": 3
   },
   "file_extension": ".py",
   "mimetype": "text/x-python",
   "name": "python",
   "nbconvert_exporter": "python",
   "pygments_lexer": "ipython3",
   "version": "3.9.12"
  }
 },
 "nbformat": 4,
 "nbformat_minor": 5
}

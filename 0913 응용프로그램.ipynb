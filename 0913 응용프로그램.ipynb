{
 "cells": [
  {
   "cell_type": "code",
   "execution_count": 15,
   "id": "255d4961",
   "metadata": {},
   "outputs": [],
   "source": [
    "def gugu(n):\n",
    "    reslt=[]\n",
    "    reslt.append(n*1)\n",
    "    reslt.append(n*2)\n",
    "    reslt.append(n*3)\n",
    "    reslt.append(n*4)\n",
    "    reslt.append(n*5)\n",
    "    reslt.append(n*6)\n",
    "    reslt.append(n*7)\n",
    "    reslt.append(n*8)\n",
    "    reslt.append(n*9)\n",
    "    return reslt\n",
    "    print(n)"
   ]
  },
  {
   "cell_type": "code",
   "execution_count": 16,
   "id": "566c10dc",
   "metadata": {},
   "outputs": [
    {
     "name": "stdout",
     "output_type": "stream",
     "text": [
      "[2, 4, 6, 8, 10, 12, 14, 16, 18]\n"
     ]
    }
   ],
   "source": [
    "print(gugu(2))"
   ]
  },
  {
   "cell_type": "code",
   "execution_count": 13,
   "id": "624b8b2d",
   "metadata": {},
   "outputs": [],
   "source": [
    "def gugu(n):\n",
    "    reslt=[]\n",
    "    for i in range(1,10):\n",
    "        reslt.append(n*i)\n",
    "    return reslt\n",
    "    print(n)"
   ]
  },
  {
   "cell_type": "code",
   "execution_count": 14,
   "id": "80dd2021",
   "metadata": {},
   "outputs": [
    {
     "name": "stdout",
     "output_type": "stream",
     "text": [
      "[2, 4, 6, 8, 10, 12, 14, 16, 18]\n"
     ]
    }
   ],
   "source": [
    "print(gugu(2))"
   ]
  },
  {
   "cell_type": "code",
   "execution_count": 20,
   "id": "45f66c44",
   "metadata": {},
   "outputs": [],
   "source": [
    "def gugu(n):\n",
    "    reslt=[]\n",
    "    i=1\n",
    "    while i < 10: \n",
    "        reslt.append(n*i)\n",
    "        i=i+1\n",
    "    return reslt\n",
    "    print(n)"
   ]
  },
  {
   "cell_type": "code",
   "execution_count": 21,
   "id": "2e8becab",
   "metadata": {},
   "outputs": [
    {
     "name": "stdout",
     "output_type": "stream",
     "text": [
      "[2, 4, 6, 8, 10, 12, 14, 16, 18]\n"
     ]
    }
   ],
   "source": [
    "print(gugu(2))"
   ]
  },
  {
   "cell_type": "code",
   "execution_count": 27,
   "id": "ab76d873",
   "metadata": {},
   "outputs": [
    {
     "name": "stdout",
     "output_type": "stream",
     "text": [
      "267333\n"
     ]
    }
   ],
   "source": [
    "sum=0\n",
    "for n in range(1,1001):\n",
    "    if n%3 == 0:\n",
    "        sum=sum+n\n",
    "    if n% 5 == 0:\n",
    "        sum=sum+n\n",
    "print(sum)"
   ]
  },
  {
   "cell_type": "code",
   "execution_count": 42,
   "id": "ce831be2",
   "metadata": {},
   "outputs": [],
   "source": [
    "def getTokalpag(m,n):\n",
    "    if m % n == 0:\n",
    "            return m//n\n",
    "    else:\n",
    "            return (m//n)+1\n"
   ]
  },
  {
   "cell_type": "code",
   "execution_count": 43,
   "id": "defad005",
   "metadata": {},
   "outputs": [
    {
     "data": {
      "text/plain": [
       "10"
      ]
     },
     "execution_count": 43,
     "metadata": {},
     "output_type": "execute_result"
    }
   ],
   "source": [
    "getTokalpag(100,10)"
   ]
  },
  {
   "cell_type": "code",
   "execution_count": 44,
   "id": "1ea2ff1e",
   "metadata": {},
   "outputs": [
    {
     "data": {
      "text/plain": [
       "'C:\\\\Users\\\\KOREAIT\\\\worksapca'"
      ]
     },
     "execution_count": 44,
     "metadata": {},
     "output_type": "execute_result"
    }
   ],
   "source": [
    "import os\n",
    "os.getcwd()"
   ]
  },
  {
   "cell_type": "code",
   "execution_count": 45,
   "id": "a3e32a90",
   "metadata": {},
   "outputs": [
    {
     "name": "stdout",
     "output_type": "stream",
     "text": [
      " C 드라이브의 볼륨에는 이름이 없습니다.\n",
      " 볼륨 일련 번호: D89C-10F0\n",
      "\n",
      " C:\\Users\\KOREAIT\\worksapca 디렉터리\n",
      "\n",
      "2022-09-13  오후 02:14    <DIR>          .\n",
      "2022-09-13  오후 02:14    <DIR>          ..\n",
      "2022-09-13  오후 01:38    <DIR>          .ipynb_checkpoints\n",
      "2022-08-31  오전 09:35            14,482 02. 숫자형.ipynb\n",
      "2022-09-08  오후 02:08             6,765 0908 예외처리기법.ipynb\n",
      "2022-09-13  오후 01:14            22,302 0908~0913 내장함수,.ipynb\n",
      "2022-09-13  오후 02:03             4,542 0913 응용프로그램.ipynb\n",
      "2022-09-13  오후 12:16            25,799 0913라이브버리.ipynb\n",
      "2022-08-31  오후 05:16            20,228 2022년08월31일 배운.ipynb\n",
      "2022-09-01  오후 02:59            22,790 2022년09월01일 배운것.ipynb\n",
      "2022-09-02  오후 03:27            26,017 2022년09월02일 배운것.ipynb\n",
      "2022-09-07  오전 10:00            15,075 2022년09월05일.ipynb\n",
      "2022-09-07  오후 12:01            17,118 2022년09월07일.ipynb\n",
      "2022-09-13  오전 11:02                29 argv_test.py\n",
      "2022-09-05  오후 02:37                56 foo.txt\n",
      "2022-09-05  오후 02:39                53 foo2.txt\n",
      "2022-08-30  오후 02:06               589 hollo.ipynb\n",
      "2022-09-08  오후 02:04               238 main.py\n",
      "2022-09-08  오후 02:06               232 main_1.py\n",
      "2022-09-13  오후 02:21                44 memo.txt\n",
      "2022-09-07  오후 03:59               111 mod2.py\n",
      "2022-09-13  오후 02:21               155 momo.py\n",
      "2022-09-08  오후 02:01    <DIR>          test_package\n",
      "2022-09-13  오전 10:52                 0 tsst\n",
      "2022-09-13  오전 09:46            11,519 Untitled.ipynb\n",
      "2022-09-05  오후 02:35               898 Untitled1.ipynb\n",
      "2022-09-08  오전 11:43                72 Untitled2.ipynb\n",
      "2022-09-08  오전 11:43                72 Untitled3.ipynb\n",
      "2022-09-13  오전 09:36                72 Untitled4.ipynb\n",
      "2022-09-05  오후 12:06                54 Vartest.py\n",
      "2022-09-07  오후 03:33    <DIR>          __pycache__\n",
      "2022-09-07  오전 10:50            19,746 리스트.ipynb\n",
      "2022-09-07  오후 03:56                 0 새 텍스트 문서.txt\n",
      "2022-09-05  오후 01:59               451 새파일.txt\n",
      "2022-09-05  오후 01:54                 0 새파일2.txt\n",
      "2022-09-08  오후 01:43            13,094 클래스.ipynb\n",
      "              31개 파일             222,603 바이트\n",
      "               5개 디렉터리  120,752,807,936 바이트 남음\n"
     ]
    }
   ],
   "source": [
    "!dir"
   ]
  },
  {
   "cell_type": "code",
   "execution_count": 24,
   "id": "b5f9f158",
   "metadata": {},
   "outputs": [],
   "source": [
    "import os"
   ]
  },
  {
   "cell_type": "code",
   "execution_count": 24,
   "id": "89c5f260",
   "metadata": {},
   "outputs": [
    {
     "ename": "IndentationError",
     "evalue": "expected an indented block (2542277677.py, line 10)",
     "output_type": "error",
     "traceback": [
      "\u001b[1;36m  Input \u001b[1;32mIn [24]\u001b[1;36m\u001b[0m\n\u001b[1;33m    ext == \".ipynb\"\u001b[0m\n\u001b[1;37m    ^\u001b[0m\n\u001b[1;31mIndentationError\u001b[0m\u001b[1;31m:\u001b[0m expected an indented block\n"
     ]
    }
   ],
   "source": [
    "import os\n",
    "def search(dirname):\n",
    "    fienames=os.listdir(dirname)\n",
    "    for filename in fienames:\n",
    "        filename= os.path.join(dirname,filename) \n",
    "        if os.path.isdir(filename):\n",
    "            search(filename)\n",
    "       \n",
    "        else :\n",
    "        ext == \".ipynb\"\n",
    "         ext=os.path.splitext(filename)[-1]\n",
    "            print(filename)\n",
    "    except PermissionError:\n",
    "        pass\n",
    "search('C:/\")\n",
    "    "
   ]
  },
  {
   "cell_type": "code",
   "execution_count": 1,
   "id": "f2d743a5",
   "metadata": {},
   "outputs": [],
   "source": [
    "%run momo.py -a \"메모를테스트합니다\"\n"
   ]
  },
  {
   "cell_type": "code",
   "execution_count": null,
   "id": "3c52cf3b",
   "metadata": {},
   "outputs": [],
   "source": []
  }
 ],
 "metadata": {
  "kernelspec": {
   "display_name": "Python 3 (ipykernel)",
   "language": "python",
   "name": "python3"
  },
  "language_info": {
   "codemirror_mode": {
    "name": "ipython",
    "version": 3
   },
   "file_extension": ".py",
   "mimetype": "text/x-python",
   "name": "python",
   "nbconvert_exporter": "python",
   "pygments_lexer": "ipython3",
   "version": "3.9.12"
  },
  "toc": {
   "base_numbering": 1,
   "nav_menu": {},
   "number_sections": true,
   "sideBar": true,
   "skip_h1_title": false,
   "title_cell": "Table of Contents",
   "title_sidebar": "Contents",
   "toc_cell": false,
   "toc_position": {},
   "toc_section_display": true,
   "toc_window_display": false
  },
  "varInspector": {
   "cols": {
    "lenName": 16,
    "lenType": 16,
    "lenVar": 40
   },
   "kernels_config": {
    "python": {
     "delete_cmd_postfix": "",
     "delete_cmd_prefix": "del ",
     "library": "var_list.py",
     "varRefreshCmd": "print(var_dic_list())"
    },
    "r": {
     "delete_cmd_postfix": ") ",
     "delete_cmd_prefix": "rm(",
     "library": "var_list.r",
     "varRefreshCmd": "cat(var_dic_list()) "
    }
   },
   "types_to_exclude": [
    "module",
    "function",
    "builtin_function_or_method",
    "instance",
    "_Feature"
   ],
   "window_display": false
  }
 },
 "nbformat": 4,
 "nbformat_minor": 5
}

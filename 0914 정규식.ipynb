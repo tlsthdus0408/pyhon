{
 "cells": [
  {
   "cell_type": "code",
   "execution_count": 2,
   "id": "1e91c32f",
   "metadata": {},
   "outputs": [],
   "source": [
    "data=\"\"\"\n",
    "pakr 80901-1049118\n",
    "kim  700905-10598119\n",
    "\"\"\""
   ]
  },
  {
   "cell_type": "code",
   "execution_count": 22,
   "id": "01e41471",
   "metadata": {},
   "outputs": [
    {
     "name": "stdout",
     "output_type": "stream",
     "text": [
      "[]\n",
      "['']\n"
     ]
    }
   ],
   "source": [
    "data=\"\"\"\n",
    "pakr 800901-1049118\n",
    "kim  700905-1059119\n",
    "\"\"\"\n",
    "result=[]\n",
    "for line in data.split(\"\\n\"):\n",
    "    word_result=[]\n",
    "for word in line.split(\" \"):\n",
    "    if len(word) == 14 and word[0:6].isdigit() and word[7:].isdigit():\n",
    "        word=word[:6]+\"-\"+ \"*******\"\n",
    "        word_reslt.append(word)\n",
    "    print(word_result)\n",
    "result.append(\" \".join(word_result))\n",
    "print(result)\n"
   ]
  },
  {
   "cell_type": "code",
   "execution_count": 24,
   "id": "75b9f9a1",
   "metadata": {},
   "outputs": [
    {
     "name": "stdout",
     "output_type": "stream",
     "text": [
      "\n",
      "park 800905-*******\n",
      "kim 700905-*******\n",
      "\n"
     ]
    }
   ],
   "source": [
    "import re\n",
    "data=\"\"\"\n",
    "park 800905-1049118\n",
    "kim 700905-1059119\n",
    "\"\"\"\n",
    "pat=re.compile(\"(\\d{6})[-]\\d{7}\")\n",
    "print(pat.sub(\"\\g<1>-*******\",data))"
   ]
  },
  {
   "cell_type": "code",
   "execution_count": 48,
   "id": "44192b04",
   "metadata": {},
   "outputs": [],
   "source": [
    "import re\n",
    "p=re.compile(\"[a-z]+\")"
   ]
  },
  {
   "cell_type": "code",
   "execution_count": 39,
   "id": "e4679e75",
   "metadata": {},
   "outputs": [
    {
     "name": "stdout",
     "output_type": "stream",
     "text": [
      "<re.Match object; span=(0, 4), match='ptho'>\n"
     ]
    }
   ],
   "source": [
    "m=p.match(\"pthoyn\")\n",
    "print(m)"
   ]
  },
  {
   "cell_type": "code",
   "execution_count": 43,
   "id": "1315588b",
   "metadata": {},
   "outputs": [
    {
     "name": "stdout",
     "output_type": "stream",
     "text": [
      "None\n"
     ]
    }
   ],
   "source": [
    "m=p.match(\"3 pthoyn\")\n",
    "print(m)"
   ]
  },
  {
   "cell_type": "code",
   "execution_count": 42,
   "id": "ee88154d",
   "metadata": {},
   "outputs": [
    {
     "name": "stdout",
     "output_type": "stream",
     "text": [
      "<re.Match object; span=(2, 8), match='pthoyn'>\n"
     ]
    }
   ],
   "source": [
    "result=p.findall(\"life is too short\")\n",
    "print(result)\n"
   ]
  },
  {
   "cell_type": "code",
   "execution_count": 49,
   "id": "0012e07a",
   "metadata": {},
   "outputs": [
    {
     "name": "stdout",
     "output_type": "stream",
     "text": [
      "['life', 'is', 'too', 'short']\n"
     ]
    }
   ],
   "source": [
    "result=p.findall(\"life is too short\")\n",
    "print(result)"
   ]
  },
  {
   "cell_type": "code",
   "execution_count": 47,
   "id": "88c43683",
   "metadata": {
    "scrolled": true
   },
   "outputs": [
    {
     "name": "stdout",
     "output_type": "stream",
     "text": [
      "['life', 'is', 'oo', 'shor']\n"
     ]
    }
   ],
   "source": [
    "result=p.findall(\"life is too short\")\n",
    "print(result)"
   ]
  },
  {
   "cell_type": "code",
   "execution_count": 51,
   "id": "d13daf45",
   "metadata": {},
   "outputs": [
    {
     "name": "stdout",
     "output_type": "stream",
     "text": [
      "['life', 'is', 'too', 'short']\n"
     ]
    }
   ],
   "source": [
    "result=p.findall(\"life is too short\")\n",
    "print(result)"
   ]
  },
  {
   "cell_type": "code",
   "execution_count": 54,
   "id": "b7ae59d6",
   "metadata": {
    "scrolled": true
   },
   "outputs": [
    {
     "name": "stdout",
     "output_type": "stream",
     "text": [
      "<callable_iterator object at 0x00000266E38D61F0>\n",
      "<re.Match object; span=(0, 4), match='life'>\n",
      "<re.Match object; span=(5, 7), match='is'>\n",
      "<re.Match object; span=(8, 11), match='too'>\n",
      "<re.Match object; span=(12, 17), match='short'>\n"
     ]
    }
   ],
   "source": [
    "result=p.finditer(\"life is too short\")\n",
    "print(result)\n",
    "for r in result: print(r)"
   ]
  },
  {
   "cell_type": "code",
   "execution_count": 55,
   "id": "fc2e2b4e",
   "metadata": {},
   "outputs": [
    {
     "name": "stdout",
     "output_type": "stream",
     "text": [
      "<re.Match object; span=(0, 6), match='pthoyn'>\n"
     ]
    }
   ],
   "source": [
    "m=p.match(\"pthoyn\")\n",
    "print(m)"
   ]
  },
  {
   "cell_type": "code",
   "execution_count": 56,
   "id": "599828b3",
   "metadata": {},
   "outputs": [
    {
     "data": {
      "text/plain": [
       "0"
      ]
     },
     "execution_count": 56,
     "metadata": {},
     "output_type": "execute_result"
    }
   ],
   "source": [
    "m.start()"
   ]
  },
  {
   "cell_type": "code",
   "execution_count": 57,
   "id": "1e0aeab1",
   "metadata": {},
   "outputs": [
    {
     "data": {
      "text/plain": [
       "6"
      ]
     },
     "execution_count": 57,
     "metadata": {},
     "output_type": "execute_result"
    }
   ],
   "source": [
    "m.end()"
   ]
  },
  {
   "cell_type": "code",
   "execution_count": 58,
   "id": "534b122b",
   "metadata": {},
   "outputs": [
    {
     "data": {
      "text/plain": [
       "'pthoyn'"
      ]
     },
     "execution_count": 58,
     "metadata": {},
     "output_type": "execute_result"
    }
   ],
   "source": [
    "m.group()"
   ]
  },
  {
   "cell_type": "code",
   "execution_count": 59,
   "id": "e3f9fe6e",
   "metadata": {
    "scrolled": true
   },
   "outputs": [
    {
     "data": {
      "text/plain": [
       "(0, 6)"
      ]
     },
     "execution_count": 59,
     "metadata": {},
     "output_type": "execute_result"
    }
   ],
   "source": [
    "m.span()"
   ]
  },
  {
   "cell_type": "code",
   "execution_count": 65,
   "id": "3c199612",
   "metadata": {},
   "outputs": [
    {
     "name": "stdout",
     "output_type": "stream",
     "text": [
      "None\n"
     ]
    }
   ],
   "source": [
    "p=re.compile('a,b')\n",
    "m=p.match(\"a\\nb\")\n",
    "print(m)"
   ]
  },
  {
   "cell_type": "code",
   "execution_count": 72,
   "id": "3ee05fca",
   "metadata": {},
   "outputs": [
    {
     "name": "stdout",
     "output_type": "stream",
     "text": [
      "None\n"
     ]
    }
   ],
   "source": [
    "p=re.compile('[a-z]')\n",
    "m=p.match(\"Python\")\n",
    "print(m)"
   ]
  },
  {
   "cell_type": "code",
   "execution_count": null,
   "id": "44b987cf",
   "metadata": {},
   "outputs": [],
   "source": []
  },
  {
   "cell_type": "code",
   "execution_count": 69,
   "id": "8a581709",
   "metadata": {},
   "outputs": [
    {
     "name": "stdout",
     "output_type": "stream",
     "text": [
      "<re.Match object; span=(0, 1), match='P'>\n"
     ]
    }
   ],
   "source": [
    "p=re.compile('[a-z]',re.I)\n",
    "m=p.match(\"Python\")\n",
    "print(m)"
   ]
  },
  {
   "cell_type": "code",
   "execution_count": 73,
   "id": "604a72dd",
   "metadata": {},
   "outputs": [
    {
     "name": "stdout",
     "output_type": "stream",
     "text": [
      "<re.Match object; span=(0, 1), match='P'>\n"
     ]
    }
   ],
   "source": [
    "p=re.compile('[a-z]',re.IGNORECASE)  #''[a-zA-Z]'' 와 동일하다\n",
    "m=p.match(\"PYHON\") \n",
    "print(m)"
   ]
  },
  {
   "cell_type": "code",
   "execution_count": 36,
   "id": "4444185c",
   "metadata": {},
   "outputs": [],
   "source": [
    "import re\n",
    "p=re.compile(\"python\\s\\w+\",re.MULTILINE)"
   ]
  },
  {
   "cell_type": "code",
   "execution_count": 37,
   "id": "aae1024c",
   "metadata": {},
   "outputs": [],
   "source": [
    "data=\"\"\" pyton one one\n",
    "life is too short\n",
    "pyton two\n",
    "you need python\n",
    "pyton  three\"\"\""
   ]
  },
  {
   "cell_type": "code",
   "execution_count": 38,
   "id": "2af01e18",
   "metadata": {},
   "outputs": [
    {
     "name": "stdout",
     "output_type": "stream",
     "text": [
      "['python\\npyton']\n"
     ]
    }
   ],
   "source": [
    "print(p.findall(data))"
   ]
  },
  {
   "cell_type": "code",
   "execution_count": 48,
   "id": "c685fbe5",
   "metadata": {},
   "outputs": [],
   "source": [
    "charef=re.compile(r'&[#](0[0-7]+[0-9]+lx[0-9a-fA-f]+);')"
   ]
  },
  {
   "cell_type": "code",
   "execution_count": 53,
   "id": "86e6eab0",
   "metadata": {},
   "outputs": [],
   "source": [
    "# 해석\n",
    "#charef=re,compile(r\"\"\" \n",
    "#&[#]\n",
    "#(                                      #stat of a numeric entilty referebce\n",
    "#0[0-7]+                                #8진수 form\n",
    " # l [0-9]+                             #10진수 형식                              \n",
    "  #l x[0-9a-fA-F]                     #16g형식 \n",
    "  \n",
    "#)\n",
    "#:\n",
    "#\"\"\",)                                   #Trailing semicoin"
   ]
  },
  {
   "cell_type": "code",
   "execution_count": 49,
   "id": "c33e9597",
   "metadata": {},
   "outputs": [
    {
     "name": "stdout",
     "output_type": "stream",
     "text": [
      "re.compile('&[#](0[0-7]+[0-9]+lx[0-9a-fA-f]+);')\n"
     ]
    }
   ],
   "source": [
    "print(charef)"
   ]
  },
  {
   "cell_type": "code",
   "execution_count": 59,
   "id": "3c7356c9",
   "metadata": {},
   "outputs": [
    {
     "name": "stdout",
     "output_type": "stream",
     "text": [
      "<re.Match object; span=(0, 4), match='Clow'>\n"
     ]
    }
   ],
   "source": [
    "p=re.compile(\"Clow|Servo\")\n",
    "m=p.match('ClowlHello')\n",
    "print(m)\n"
   ]
  },
  {
   "cell_type": "code",
   "execution_count": 61,
   "id": "a4499701",
   "metadata": {},
   "outputs": [
    {
     "name": "stdout",
     "output_type": "stream",
     "text": [
      "<re.Match object; span=(0, 4), match='Clow'>\n"
     ]
    }
   ],
   "source": [
    "p=re.compile(\"Clow|Servo\")\n",
    "m=p.search('ClowlHello')\n",
    "print(m)\n"
   ]
  },
  {
   "cell_type": "code",
   "execution_count": 60,
   "id": "e85d31b6",
   "metadata": {},
   "outputs": [
    {
     "name": "stdout",
     "output_type": "stream",
     "text": [
      "<re.Match object; span=(0, 4), match='Life'>\n"
     ]
    }
   ],
   "source": [
    "print(re.search(\"Life\",\"Life is too short\"))"
   ]
  },
  {
   "cell_type": "code",
   "execution_count": 63,
   "id": "a46c0389",
   "metadata": {},
   "outputs": [
    {
     "name": "stdout",
     "output_type": "stream",
     "text": [
      "<re.Match object; span=(0, 4), match='Life'>\n"
     ]
    }
   ],
   "source": [
    "print(re.search(\"^Life\",\"Life is too short\"))"
   ]
  },
  {
   "cell_type": "code",
   "execution_count": 66,
   "id": "bbf3560a",
   "metadata": {},
   "outputs": [
    {
     "name": "stdout",
     "output_type": "stream",
     "text": [
      "None\n"
     ]
    }
   ],
   "source": [
    "print(re.search('^Life',\"myLife is too myshort\"))"
   ]
  },
  {
   "cell_type": "code",
   "execution_count": 67,
   "id": "521313f4",
   "metadata": {},
   "outputs": [
    {
     "name": "stdout",
     "output_type": "stream",
     "text": [
      "<re.Match object; span=(12, 17), match='short'>\n"
     ]
    }
   ],
   "source": [
    "print(re.search(\"short$\",\"Life is too short\"))"
   ]
  },
  {
   "cell_type": "code",
   "execution_count": 69,
   "id": "19235ec3",
   "metadata": {
    "scrolled": true
   },
   "outputs": [
    {
     "name": "stdout",
     "output_type": "stream",
     "text": [
      "None\n"
     ]
    }
   ],
   "source": [
    "print(re.search(\"short$\",\"Life is too short, you need pythoon\"))"
   ]
  },
  {
   "cell_type": "code",
   "execution_count": 74,
   "id": "b4b0737b",
   "metadata": {},
   "outputs": [],
   "source": [
    "data=\"\"\"pyton one one\n",
    "life is too short\n",
    "pyton two\n",
    "you need python\n",
    "pyton  three\"\"\""
   ]
  },
  {
   "cell_type": "code",
   "execution_count": 78,
   "id": "ebb0845c",
   "metadata": {},
   "outputs": [],
   "source": [
    "p=re.compile(\"\\Apython\\s\\w+\",re.MULTILINE)"
   ]
  },
  {
   "cell_type": "code",
   "execution_count": 80,
   "id": "2ba9c3ac",
   "metadata": {},
   "outputs": [
    {
     "name": "stdout",
     "output_type": "stream",
     "text": [
      "[]\n"
     ]
    }
   ],
   "source": []
  },
  {
   "cell_type": "code",
   "execution_count": 84,
   "id": "d393b129",
   "metadata": {},
   "outputs": [],
   "source": [
    "p=re.compile(r'class\\b')"
   ]
  },
  {
   "cell_type": "code",
   "execution_count": 85,
   "id": "c343ccc1",
   "metadata": {},
   "outputs": [
    {
     "name": "stdout",
     "output_type": "stream",
     "text": [
      "<re.Match object; span=(3, 8), match='class'>\n"
     ]
    }
   ],
   "source": [
    "print(p.search('no class at  all'))"
   ]
  },
  {
   "cell_type": "code",
   "execution_count": 86,
   "id": "17c70e27",
   "metadata": {},
   "outputs": [
    {
     "name": "stdout",
     "output_type": "stream",
     "text": [
      "None\n"
     ]
    }
   ],
   "source": [
    "p=re.compile(r'class\\B')\n",
    "print(p.search('no class at  all'))"
   ]
  },
  {
   "cell_type": "code",
   "execution_count": 87,
   "id": "23e8d979",
   "metadata": {},
   "outputs": [
    {
     "name": "stdout",
     "output_type": "stream",
     "text": [
      "<re.Match object; span=(6, 11), match='class'>\n"
     ]
    }
   ],
   "source": [
    "print(p.search('tge declasslfed algortgm'))"
   ]
  },
  {
   "cell_type": "code",
   "execution_count": 88,
   "id": "d190594d",
   "metadata": {},
   "outputs": [
    {
     "name": "stdout",
     "output_type": "stream",
     "text": [
      "None\n"
     ]
    }
   ],
   "source": [
    "print(p.search('one subclass  is'))"
   ]
  },
  {
   "cell_type": "code",
   "execution_count": 90,
   "id": "a47b2c67",
   "metadata": {},
   "outputs": [],
   "source": [
    "p=re.compile(r\"(\\w+)\\s+(\\d+)[-]\\d+[-]wd+\")\n",
    "m=p.search(\"park 010-1234-1234\")"
   ]
  },
  {
   "cell_type": "code",
   "execution_count": 102,
   "id": "a493643c",
   "metadata": {},
   "outputs": [
    {
     "name": "stdout",
     "output_type": "stream",
     "text": [
      "4\n"
     ]
    }
   ],
   "source": [
    "p=re.compile(r\"(\\w)+\\s+(\\d+)[-](\\d)+[-](\\d+)\")\n",
    "m=p.search(\"park 010-1234-1234\")\n",
    "print(m.group(3))"
   ]
  },
  {
   "cell_type": "code",
   "execution_count": 103,
   "id": "f24c37f0",
   "metadata": {},
   "outputs": [
    {
     "name": "stdout",
     "output_type": "stream",
     "text": [
      "k\n"
     ]
    }
   ],
   "source": [
    "print(m.group(1))"
   ]
  },
  {
   "cell_type": "code",
   "execution_count": 104,
   "id": "5532ce98",
   "metadata": {},
   "outputs": [
    {
     "name": "stdout",
     "output_type": "stream",
     "text": [
      "010\n"
     ]
    }
   ],
   "source": [
    "print(m.group(2))"
   ]
  },
  {
   "cell_type": "code",
   "execution_count": 105,
   "id": "c33419d2",
   "metadata": {},
   "outputs": [
    {
     "name": "stdout",
     "output_type": "stream",
     "text": [
      "4\n"
     ]
    }
   ],
   "source": [
    "print(m.group(3))"
   ]
  },
  {
   "cell_type": "code",
   "execution_count": 106,
   "id": "736b0cba",
   "metadata": {},
   "outputs": [
    {
     "name": "stdout",
     "output_type": "stream",
     "text": [
      "https\n"
     ]
    }
   ],
   "source": [
    "p=re.compile(\".+(?=:)\")\n",
    "m=p.search(\"https://www.google.com/\")\n",
    "print(m.group())"
   ]
  },
  {
   "cell_type": "code",
   "execution_count": 108,
   "id": "7e5bed1f",
   "metadata": {},
   "outputs": [
    {
     "name": "stdout",
     "output_type": "stream",
     "text": [
      "https://www.google.com/\n"
     ]
    }
   ],
   "source": [
    "p=re.compile(\".*[.](?!bat$).*$\")\n",
    "m=p.search(\"https://www.google.com/\")\n",
    "print(m.group())"
   ]
  },
  {
   "cell_type": "code",
   "execution_count": 109,
   "id": "c10ae182",
   "metadata": {},
   "outputs": [],
   "source": [
    "p=re.compile('(blue|white|red)')"
   ]
  },
  {
   "cell_type": "code",
   "execution_count": 111,
   "id": "813ce106",
   "metadata": {},
   "outputs": [
    {
     "data": {
      "text/plain": [
       "'blie socks and colour shoes'"
      ]
     },
     "execution_count": 111,
     "metadata": {},
     "output_type": "execute_result"
    }
   ],
   "source": [
    "p.sub('colour','blie socks and red shoes')"
   ]
  },
  {
   "cell_type": "code",
   "execution_count": 112,
   "id": "22f46c57",
   "metadata": {},
   "outputs": [
    {
     "data": {
      "text/plain": [
       "43"
      ]
     },
     "execution_count": 112,
     "metadata": {},
     "output_type": "execute_result"
    }
   ],
   "source": [
    "s='<hteml> <head><title></title></head></html>'\n",
    "len(s)"
   ]
  },
  {
   "cell_type": "code",
   "execution_count": 118,
   "id": "d30a0620",
   "metadata": {},
   "outputs": [
    {
     "name": "stdout",
     "output_type": "stream",
     "text": [
      "(0, 43)\n"
     ]
    }
   ],
   "source": [
    "print(re.match('<.*>',s).span())"
   ]
  },
  {
   "cell_type": "code",
   "execution_count": null,
   "id": "afdfbce1",
   "metadata": {},
   "outputs": [],
   "source": [
    "print(re.match('<.?>',s).group())"
   ]
  },
  {
   "cell_type": "code",
   "execution_count": 1,
   "id": "47256b0d",
   "metadata": {},
   "outputs": [],
   "source": [
    "import re"
   ]
  },
  {
   "cell_type": "code",
   "execution_count": 3,
   "id": "2596023f",
   "metadata": {},
   "outputs": [],
   "source": [
    "data=\"\"\"http://www.forta.com/\n",
    "http://www.forta.com/\n",
    "ftp://ftp.rota.com/\"\"\"\n"
   ]
  },
  {
   "cell_type": "code",
   "execution_count": 5,
   "id": "911f3a01",
   "metadata": {},
   "outputs": [
    {
     "name": "stdout",
     "output_type": "stream",
     "text": [
      "http://www.forta.com/\n",
      "http://www.forta.com/\n",
      "ftp://ftp.rota.com/\n"
     ]
    }
   ],
   "source": [
    "p=re.compile(\".+W$(0-9)\", re.MULTILINE)\n",
    "for n in data.split(\"\\n\"):\n",
    "    m=p.search(n)\n",
    "    print(n)"
   ]
  },
  {
   "cell_type": "code",
   "execution_count": 6,
   "id": "85c9d084",
   "metadata": {},
   "outputs": [],
   "source": [
    "data= \"\"\" ABCL $23.45\n",
    "HGG42: %5.31\n",
    "CFMXI: $889.00\n",
    "XTC99: $69.96\n",
    "Total itmes found:4\"\"\""
   ]
  },
  {
   "cell_type": "code",
   "execution_count": 7,
   "id": "bdbccdbf",
   "metadata": {},
   "outputs": [
    {
     "name": "stdout",
     "output_type": "stream",
     "text": [
      " ABCL $23.45\n",
      "HGG42: %5.31\n",
      "CFMXI: $889.00\n",
      "XTC99: $69.96\n",
      "Total itmes found:4\n"
     ]
    }
   ],
   "source": [
    "p=re.compile(\".+(?=<W$)[0-9]\", re.MULTILINE)\n",
    "for n in data.split(\"\\n\"):\n",
    "    m=p.search(n)\n",
    "    print(n)"
   ]
  },
  {
   "cell_type": "code",
   "execution_count": null,
   "id": "fa7ac516",
   "metadata": {},
   "outputs": [],
   "source": []
  },
  {
   "cell_type": "code",
   "execution_count": null,
   "id": "6fdc08c4",
   "metadata": {},
   "outputs": [],
   "source": []
  }
 ],
 "metadata": {
  "kernelspec": {
   "display_name": "Python 3 (ipykernel)",
   "language": "python",
   "name": "python3"
  },
  "language_info": {
   "codemirror_mode": {
    "name": "ipython",
    "version": 3
   },
   "file_extension": ".py",
   "mimetype": "text/x-python",
   "name": "python",
   "nbconvert_exporter": "python",
   "pygments_lexer": "ipython3",
   "version": "3.9.12"
  },
  "toc": {
   "base_numbering": 1,
   "nav_menu": {},
   "number_sections": true,
   "sideBar": true,
   "skip_h1_title": false,
   "title_cell": "Table of Contents",
   "title_sidebar": "Contents",
   "toc_cell": false,
   "toc_position": {},
   "toc_section_display": true,
   "toc_window_display": false
  },
  "varInspector": {
   "cols": {
    "lenName": 16,
    "lenType": 16,
    "lenVar": 40
   },
   "kernels_config": {
    "python": {
     "delete_cmd_postfix": "",
     "delete_cmd_prefix": "del ",
     "library": "var_list.py",
     "varRefreshCmd": "print(var_dic_list())"
    },
    "r": {
     "delete_cmd_postfix": ") ",
     "delete_cmd_prefix": "rm(",
     "library": "var_list.r",
     "varRefreshCmd": "cat(var_dic_list()) "
    }
   },
   "types_to_exclude": [
    "module",
    "function",
    "builtin_function_or_method",
    "instance",
    "_Feature"
   ],
   "window_display": false
  }
 },
 "nbformat": 4,
 "nbformat_minor": 5
}

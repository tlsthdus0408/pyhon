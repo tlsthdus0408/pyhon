{
 "cells": [
  {
   "cell_type": "code",
   "execution_count": 2,
   "id": "f36d026f",
   "metadata": {},
   "outputs": [],
   "source": [
    "import sys"
   ]
  },
  {
   "cell_type": "code",
   "execution_count": 4,
   "id": "6aca2457",
   "metadata": {},
   "outputs": [
    {
     "data": {
      "text/plain": [
       "['C:\\\\Users\\\\KOREAIT\\\\worksapca',\n",
       " 'C:\\\\Users\\\\KOREAIT\\\\anaconda3\\\\envs\\\\pt3prer32\\\\python39.zip',\n",
       " 'C:\\\\Users\\\\KOREAIT\\\\anaconda3\\\\envs\\\\pt3prer32\\\\DLLs',\n",
       " 'C:\\\\Users\\\\KOREAIT\\\\anaconda3\\\\envs\\\\pt3prer32\\\\lib',\n",
       " 'C:\\\\Users\\\\KOREAIT\\\\anaconda3\\\\envs\\\\pt3prer32',\n",
       " '',\n",
       " 'C:\\\\Users\\\\KOREAIT\\\\anaconda3\\\\envs\\\\pt3prer32\\\\lib\\\\site-packages',\n",
       " 'C:\\\\Users\\\\KOREAIT\\\\anaconda3\\\\envs\\\\pt3prer32\\\\lib\\\\site-packages\\\\win32',\n",
       " 'C:\\\\Users\\\\KOREAIT\\\\anaconda3\\\\envs\\\\pt3prer32\\\\lib\\\\site-packages\\\\win32\\\\lib',\n",
       " 'C:\\\\Users\\\\KOREAIT\\\\anaconda3\\\\envs\\\\pt3prer32\\\\lib\\\\site-packages\\\\Pythonwin']"
      ]
     },
     "execution_count": 4,
     "metadata": {},
     "output_type": "execute_result"
    }
   ],
   "source": [
    "sys.path"
   ]
  },
  {
   "cell_type": "code",
   "execution_count": 6,
   "id": "b0867cf6",
   "metadata": {},
   "outputs": [
    {
     "data": {
      "text/plain": [
       "'C:\\\\Users\\\\KOREAIT\\\\worksapca'"
      ]
     },
     "execution_count": 6,
     "metadata": {},
     "output_type": "execute_result"
    }
   ],
   "source": [
    "import os\n",
    "os.getcwd()"
   ]
  },
  {
   "cell_type": "code",
   "execution_count": 14,
   "id": "d23f167a",
   "metadata": {},
   "outputs": [
    {
     "ename": "FileNotFoundError",
     "evalue": "[WinError 3] 지정된 경로를 찾을 수 없습니다: 'C:/sers/worksapca'",
     "output_type": "error",
     "traceback": [
      "\u001b[1;31m---------------------------------------------------------------------------\u001b[0m",
      "\u001b[1;31mFileNotFoundError\u001b[0m                         Traceback (most recent call last)",
      "Input \u001b[1;32mIn [14]\u001b[0m, in \u001b[0;36m<cell line: 1>\u001b[1;34m()\u001b[0m\n\u001b[1;32m----> 1\u001b[0m \u001b[43mos\u001b[49m\u001b[38;5;241;43m.\u001b[39;49m\u001b[43mchdir\u001b[49m\u001b[43m(\u001b[49m\u001b[38;5;124;43m\"\u001b[39;49m\u001b[38;5;124;43mC:/sers/worksapca\u001b[39;49m\u001b[38;5;124;43m\"\u001b[39;49m\u001b[43m)\u001b[49m\n",
      "\u001b[1;31mFileNotFoundError\u001b[0m: [WinError 3] 지정된 경로를 찾을 수 없습니다: 'C:/sers/worksapca'"
     ]
    }
   ],
   "source": [
    "os.chdir(\"C://worksapca\")"
   ]
  },
  {
   "cell_type": "code",
   "execution_count": null,
   "id": "bde5fb59",
   "metadata": {},
   "outputs": [],
   "source": []
  },
  {
   "cell_type": "code",
   "execution_count": null,
   "id": "5db04a22",
   "metadata": {},
   "outputs": [],
   "source": []
  },
  {
   "cell_type": "code",
   "execution_count": null,
   "id": "25d6bdd3",
   "metadata": {},
   "outputs": [],
   "source": [
    "os.chdir(\"C:\\\\Users\\\\\")"
   ]
  },
  {
   "cell_type": "code",
   "execution_count": 11,
   "id": "80f57879",
   "metadata": {
    "scrolled": true
   },
   "outputs": [
    {
     "data": {
      "text/plain": [
       "'C:\\\\Users\\\\KOREAIT'"
      ]
     },
     "execution_count": 11,
     "metadata": {},
     "output_type": "execute_result"
    }
   ],
   "source": [
    "os.getcwd()"
   ]
  },
  {
   "cell_type": "code",
   "execution_count": 12,
   "id": "24339210",
   "metadata": {},
   "outputs": [
    {
     "name": "stdout",
     "output_type": "stream",
     "text": [
      " C 드라이브의 볼륨에는 이름이 없습니다.\n",
      " 볼륨 일련 번호: D89C-10F0\n",
      "\n",
      " C:\\Users\\KOREAIT 디렉터리\n",
      "\n",
      "2022-09-13  오전 10:08    <DIR>          .\n",
      "2022-09-13  오전 10:08    <DIR>          ..\n",
      "2022-08-30  오전 11:01    <DIR>          .anaconda\n",
      "2022-01-20  오후 01:50    <DIR>          .cache\n",
      "2022-09-13  오전 11:10    <DIR>          .conda\n",
      "2022-08-30  오전 11:01                25 .condarc\n",
      "2022-08-30  오전 11:00    <DIR>          .continuum\n",
      "2022-01-20  오후 01:50    <DIR>          .eclipse\n",
      "2022-09-13  오전 09:47    <DIR>          .ipynb_checkpoints\n",
      "2022-08-30  오전 11:24    <DIR>          .ipython\n",
      "2022-09-08  오후 01:48    <DIR>          .jupyter\n",
      "2022-01-20  오후 02:49    <DIR>          .lemminx\n",
      "2022-01-21  오후 03:38    <DIR>          .m2\n",
      "2022-08-30  오전 11:37    <DIR>          .matplotlib\n",
      "2022-01-19  오후 05:16    <DIR>          .oracle\n",
      "2022-01-21  오전 11:44    <DIR>          .p2\n",
      "2022-09-13  오전 10:08             1,524 09.13  .ipynb\n",
      "2021-07-26  오후 10:45    <DIR>          3D Objects\n",
      "2022-08-30  오전 10:52    <DIR>          anaconda3\n",
      "2021-07-26  오후 10:45    <DIR>          Contacts\n",
      "2022-09-07  오전 09:07    <DIR>          Desktop\n",
      "2022-09-13  오전 08:41    <DIR>          Documents\n",
      "2022-09-08  오후 03:57    <DIR>          Downloads\n",
      "2022-04-23  오후 07:57    <DIR>          Favorites\n",
      "2021-07-26  오후 10:45    <DIR>          Links\n",
      "2021-07-26  오후 10:45    <DIR>          Music\n",
      "2021-07-26  오후 06:57    <DIR>          OneDrive\n",
      "2022-01-20  오전 09:21    <DIR>          Oracle\n",
      "2021-07-26  오후 10:45    <DIR>          Pictures\n",
      "2021-07-26  오후 10:45    <DIR>          Saved Games\n",
      "2021-07-26  오후 10:45    <DIR>          Searches\n",
      "2022-08-30  오전 11:40             1,794 Untitled.ipynb\n",
      "2022-08-30  오전 11:45             1,554 Untitled1.ipynb\n",
      "2022-08-30  오전 11:56             1,790 Untitled2.ipynb\n",
      "2022-08-30  오후 12:26             2,063 Untitled3.ipynb\n",
      "2022-08-30  오후 01:49               744 Untitled4.ipynb\n",
      "2022-08-30  오후 01:49                72 Untitled5.ipynb\n",
      "2021-07-27  오후 04:27    <DIR>          Videos\n",
      "2022-09-13  오전 11:10    <DIR>          worksapca\n",
      "               8개 파일               9,566 바이트\n",
      "              31개 디렉터리  120,658,935,808 바이트 남음\n"
     ]
    }
   ],
   "source": [
    "!dir"
   ]
  },
  {
   "cell_type": "code",
   "execution_count": 25,
   "id": "778bc4a0",
   "metadata": {},
   "outputs": [],
   "source": [
    "import pickle\n",
    "f=open(\"text.txt\",\"wb\")\n",
    "data={1:\"pryhon\",2:\"yor need\"}\n",
    "pickle.dump(data,f)\n",
    "f.close()"
   ]
  },
  {
   "cell_type": "code",
   "execution_count": 29,
   "id": "d1cf5c8b",
   "metadata": {},
   "outputs": [
    {
     "name": "stdout",
     "output_type": "stream",
     "text": [
      "{1: 'pryhon', 2: 'yor need'}\n"
     ]
    }
   ],
   "source": [
    "import pickle\n",
    "f=open(\"text.txt\",\"rb\")\n",
    "date=pickle.load(f)\n",
    "print(date)\n",
    "f.close()"
   ]
  },
  {
   "cell_type": "code",
   "execution_count": 31,
   "id": "74a51a93",
   "metadata": {},
   "outputs": [],
   "source": [
    "import os"
   ]
  },
  {
   "cell_type": "code",
   "execution_count": 32,
   "id": "f3f8bfee",
   "metadata": {},
   "outputs": [
    {
     "data": {
      "text/plain": [
       "environ{'ALLUSERSPROFILE': 'C:\\\\ProgramData',\n",
       "        'APPDATA': 'C:\\\\Users\\\\KOREAIT\\\\AppData\\\\Roaming',\n",
       "        'COMMONPROGRAMFILES': 'C:\\\\Program Files\\\\Common Files',\n",
       "        'COMMONPROGRAMFILES(X86)': 'C:\\\\Program Files (x86)\\\\Common Files',\n",
       "        'COMMONPROGRAMW6432': 'C:\\\\Program Files\\\\Common Files',\n",
       "        'COMPUTERNAME': 'KOREAIT4',\n",
       "        'COMSPEC': 'C:\\\\WINDOWS\\\\system32\\\\cmd.exe',\n",
       "        'DRIVERDATA': 'C:\\\\Windows\\\\System32\\\\Drivers\\\\DriverData',\n",
       "        'FPS_BROWSER_APP_PROFILE_STRING': 'Internet Explorer',\n",
       "        'FPS_BROWSER_USER_PROFILE_STRING': 'Default',\n",
       "        'HOMEDRIVE': 'C:',\n",
       "        'HOMEPATH': '\\\\Users\\\\KOREAIT',\n",
       "        'JAVA_HOME': 'C:\\\\Program Files\\\\Java\\\\jdk1.8.0_311',\n",
       "        'LOCALAPPDATA': 'C:\\\\Users\\\\KOREAIT\\\\AppData\\\\Local',\n",
       "        'LOGONSERVER': '\\\\\\\\KOREAIT4',\n",
       "        'NUMBER_OF_PROCESSORS': '4',\n",
       "        'ONEDRIVE': 'C:\\\\Users\\\\KOREAIT\\\\OneDrive',\n",
       "        'OS': 'Windows_NT',\n",
       "        'PATH': 'C:\\\\Users\\\\KOREAIT\\\\anaconda3\\\\envs\\\\pt3prer32;C:\\\\Users\\\\KOREAIT\\\\anaconda3\\\\envs\\\\pt3prer32\\\\Library\\\\mingw-w64\\\\bin;C:\\\\Users\\\\KOREAIT\\\\anaconda3\\\\envs\\\\pt3prer32\\\\Library\\\\usr\\\\bin;C:\\\\Users\\\\KOREAIT\\\\anaconda3\\\\envs\\\\pt3prer32\\\\Library\\\\bin;C:\\\\Users\\\\KOREAIT\\\\anaconda3\\\\envs\\\\pt3prer32\\\\Scripts;C:\\\\app\\\\KOREAIT\\\\product\\\\11.2.0\\\\dbhome_1\\\\bin;C:\\\\Program Files (x86)\\\\Common Files\\\\Oracle\\\\Java\\\\javapath;C:\\\\Program Files (x86)\\\\Intel\\\\Intel(R) Management Engine Components\\\\iCLS\\\\;C:\\\\Program Files\\\\Intel\\\\Intel(R) Management Engine Components\\\\iCLS\\\\;C:\\\\WINDOWS\\\\system32;C:\\\\WINDOWS;C:\\\\WINDOWS\\\\System32\\\\Wbem;C:\\\\WINDOWS\\\\System32\\\\WindowsPowerShell\\\\v1.0\\\\;C:\\\\WINDOWS\\\\System32\\\\OpenSSH\\\\;C:\\\\Program Files (x86)\\\\Intel\\\\Intel(R) Management Engine Components\\\\DAL;C:\\\\Program Files\\\\Intel\\\\Intel(R) Management Engine Components\\\\DAL;C:\\\\Program Files\\\\Java\\\\jdk1.8.0_311\\\\bin;C:\\\\Users\\\\KOREAIT\\\\anaconda3;C:\\\\Users\\\\KOREAIT\\\\anaconda3\\\\Library\\\\mingw-w64\\\\bin;C:\\\\Users\\\\KOREAIT\\\\anaconda3\\\\Library\\\\usr\\\\bin;C:\\\\Users\\\\KOREAIT\\\\anaconda3\\\\Library\\\\bin;C:\\\\Users\\\\KOREAIT\\\\anaconda3\\\\Scripts;C:\\\\Users\\\\KOREAIT\\\\AppData\\\\Local\\\\Microsoft\\\\WindowsApps',\n",
       "        'PATHEXT': '.COM;.EXE;.BAT;.CMD;.VBS;.VBE;.JS;.JSE;.WSF;.WSH;.MSC',\n",
       "        'PROCESSOR_ARCHITECTURE': 'AMD64',\n",
       "        'PROCESSOR_IDENTIFIER': 'Intel64 Family 6 Model 158 Stepping 9, GenuineIntel',\n",
       "        'PROCESSOR_LEVEL': '6',\n",
       "        'PROCESSOR_REVISION': '9e09',\n",
       "        'PROGRAMDATA': 'C:\\\\ProgramData',\n",
       "        'PROGRAMFILES': 'C:\\\\Program Files',\n",
       "        'PROGRAMFILES(X86)': 'C:\\\\Program Files (x86)',\n",
       "        'PROGRAMW6432': 'C:\\\\Program Files',\n",
       "        'PSMODULEPATH': 'C:\\\\Program Files\\\\WindowsPowerShell\\\\Modules;C:\\\\WINDOWS\\\\system32\\\\WindowsPowerShell\\\\v1.0\\\\Modules',\n",
       "        'PUBLIC': 'C:\\\\Users\\\\Public',\n",
       "        'SESSIONNAME': 'Console',\n",
       "        'SYSTEMDRIVE': 'C:',\n",
       "        'SYSTEMROOT': 'C:\\\\WINDOWS',\n",
       "        'TEMP': 'C:\\\\Users\\\\KOREAIT\\\\AppData\\\\Local\\\\Temp',\n",
       "        'TMP': 'C:\\\\Users\\\\KOREAIT\\\\AppData\\\\Local\\\\Temp',\n",
       "        'USERDOMAIN': 'KOREAIT4',\n",
       "        'USERDOMAIN_ROAMINGPROFILE': 'KOREAIT4',\n",
       "        'USERNAME': 'KOREAIT',\n",
       "        'USERPROFILE': 'C:\\\\Users\\\\KOREAIT',\n",
       "        'WINDIR': 'C:\\\\WINDOWS',\n",
       "        'CONDA_PREFIX': 'C:\\\\Users\\\\KOREAIT\\\\anaconda3\\\\envs\\\\pt3prer32',\n",
       "        'PYDEVD_USE_FRAME_EVAL': 'NO',\n",
       "        'JPY_INTERRUPT_EVENT': '3612',\n",
       "        'IPY_INTERRUPT_EVENT': '3612',\n",
       "        'JPY_PARENT_PID': '3580',\n",
       "        'TERM': 'xterm-color',\n",
       "        'CLICOLOR': '1',\n",
       "        'PAGER': 'cat',\n",
       "        'GIT_PAGER': 'cat',\n",
       "        'MPLBACKEND': 'module://matplotlib_inline.backend_inline'}"
      ]
     },
     "execution_count": 32,
     "metadata": {},
     "output_type": "execute_result"
    }
   ],
   "source": [
    "os.environ"
   ]
  },
  {
   "cell_type": "code",
   "execution_count": 33,
   "id": "cc427642",
   "metadata": {},
   "outputs": [
    {
     "data": {
      "text/plain": [
       "'C:\\\\Program Files\\\\Java\\\\jdk1.8.0_311'"
      ]
     },
     "execution_count": 33,
     "metadata": {},
     "output_type": "execute_result"
    }
   ],
   "source": [
    "os.environ['JAVA_HOME']"
   ]
  },
  {
   "cell_type": "code",
   "execution_count": 34,
   "id": "b05bc7ee",
   "metadata": {},
   "outputs": [
    {
     "name": "stdout",
     "output_type": "stream",
     "text": [
      " C 드라이브의 볼륨에는 이름이 없습니다.\n",
      " 볼륨 일련 번호: D89C-10F0\n",
      "\n",
      " C:\\Users\\KOREAIT 디렉터리\n",
      "\n",
      "2022-09-13  오전 11:22    <DIR>          .\n",
      "2022-09-13  오전 11:22    <DIR>          ..\n",
      "2022-08-30  오전 11:01    <DIR>          .anaconda\n",
      "2022-01-20  오후 01:50    <DIR>          .cache\n",
      "2022-09-13  오전 11:38    <DIR>          .conda\n",
      "2022-08-30  오전 11:01                25 .condarc\n",
      "2022-08-30  오전 11:00    <DIR>          .continuum\n",
      "2022-01-20  오후 01:50    <DIR>          .eclipse\n",
      "2022-09-13  오전 09:47    <DIR>          .ipynb_checkpoints\n",
      "2022-08-30  오전 11:24    <DIR>          .ipython\n",
      "2022-09-08  오후 01:48    <DIR>          .jupyter\n",
      "2022-01-20  오후 02:49    <DIR>          .lemminx\n",
      "2022-01-21  오후 03:38    <DIR>          .m2\n",
      "2022-08-30  오전 11:37    <DIR>          .matplotlib\n",
      "2022-01-19  오후 05:16    <DIR>          .oracle\n",
      "2022-01-21  오전 11:44    <DIR>          .p2\n",
      "2022-09-13  오전 10:08             1,524 09.13  .ipynb\n",
      "2021-07-26  오후 10:45    <DIR>          3D Objects\n",
      "2022-08-30  오전 10:52    <DIR>          anaconda3\n",
      "2021-07-26  오후 10:45    <DIR>          Contacts\n",
      "2022-09-07  오전 09:07    <DIR>          Desktop\n",
      "2022-09-13  오전 08:41    <DIR>          Documents\n",
      "2022-09-08  오후 03:57    <DIR>          Downloads\n",
      "2022-04-23  오후 07:57    <DIR>          Favorites\n",
      "2021-07-26  오후 10:45    <DIR>          Links\n",
      "2021-07-26  오후 10:45    <DIR>          Music\n",
      "2021-07-26  오후 06:57    <DIR>          OneDrive\n",
      "2022-01-20  오전 09:21    <DIR>          Oracle\n",
      "2021-07-26  오후 10:45    <DIR>          Pictures\n",
      "2021-07-26  오후 10:45    <DIR>          Saved Games\n",
      "2021-07-26  오후 10:45    <DIR>          Searches\n",
      "2022-09-13  오전 11:22                40 text.txt\n",
      "2022-08-30  오전 11:40             1,794 Untitled.ipynb\n",
      "2022-08-30  오전 11:45             1,554 Untitled1.ipynb\n",
      "2022-08-30  오전 11:56             1,790 Untitled2.ipynb\n",
      "2022-08-30  오후 12:26             2,063 Untitled3.ipynb\n",
      "2022-08-30  오후 01:49               744 Untitled4.ipynb\n",
      "2022-08-30  오후 01:49                72 Untitled5.ipynb\n",
      "2021-07-27  오후 04:27    <DIR>          Videos\n",
      "2022-09-13  오전 11:38    <DIR>          worksapca\n",
      "               9개 파일               9,606 바이트\n",
      "              31개 디렉터리  120,651,784,192 바이트 남음\n"
     ]
    }
   ],
   "source": [
    "!dir"
   ]
  },
  {
   "cell_type": "code",
   "execution_count": 35,
   "id": "db4d7ce0",
   "metadata": {},
   "outputs": [
    {
     "data": {
      "text/plain": [
       "0"
      ]
     },
     "execution_count": 35,
     "metadata": {},
     "output_type": "execute_result"
    }
   ],
   "source": [
    "os.system('dir')"
   ]
  },
  {
   "cell_type": "code",
   "execution_count": 36,
   "id": "4b7c2a17",
   "metadata": {},
   "outputs": [],
   "source": [
    "f=os.popen(\"dir\")"
   ]
  },
  {
   "cell_type": "code",
   "execution_count": 37,
   "id": "7bc1f7e1",
   "metadata": {},
   "outputs": [
    {
     "data": {
      "text/plain": [
       "<os._wrap_close at 0x28d210a64c0>"
      ]
     },
     "execution_count": 37,
     "metadata": {},
     "output_type": "execute_result"
    }
   ],
   "source": [
    "f"
   ]
  },
  {
   "cell_type": "code",
   "execution_count": 38,
   "id": "5a044296",
   "metadata": {},
   "outputs": [
    {
     "name": "stdout",
     "output_type": "stream",
     "text": [
      "<os._wrap_close object at 0x0000028D210A64C0>\n"
     ]
    }
   ],
   "source": [
    "print(f)"
   ]
  },
  {
   "cell_type": "code",
   "execution_count": 39,
   "id": "eca2a532",
   "metadata": {},
   "outputs": [
    {
     "data": {
      "text/plain": [
       "1663037133.8101597"
      ]
     },
     "execution_count": 39,
     "metadata": {},
     "output_type": "execute_result"
    }
   ],
   "source": [
    "import time\n",
    "time.time()"
   ]
  },
  {
   "cell_type": "code",
   "execution_count": 40,
   "id": "15b1e236",
   "metadata": {},
   "outputs": [
    {
     "data": {
      "text/plain": [
       "time.struct_time(tm_year=2022, tm_mon=9, tm_mday=13, tm_hour=11, tm_min=47, tm_sec=3, tm_wday=1, tm_yday=256, tm_isdst=0)"
      ]
     },
     "execution_count": 40,
     "metadata": {},
     "output_type": "execute_result"
    }
   ],
   "source": [
    "time.localtime()"
   ]
  },
  {
   "cell_type": "code",
   "execution_count": 41,
   "id": "1233cf83",
   "metadata": {},
   "outputs": [
    {
     "data": {
      "text/plain": [
       "'Tue Sep 13 11:49:58 2022'"
      ]
     },
     "execution_count": 41,
     "metadata": {},
     "output_type": "execute_result"
    }
   ],
   "source": [
    "time.asctime(time.localtime(time.time()))"
   ]
  },
  {
   "cell_type": "code",
   "execution_count": 45,
   "id": "2c0b8fca",
   "metadata": {},
   "outputs": [
    {
     "data": {
      "text/plain": [
       "'09/13/22'"
      ]
     },
     "execution_count": 45,
     "metadata": {},
     "output_type": "execute_result"
    }
   ],
   "source": [
    "time.strftime(\"%x\",time.localtime(time.time()))"
   ]
  },
  {
   "cell_type": "code",
   "execution_count": 1,
   "id": "91ca5124",
   "metadata": {},
   "outputs": [
    {
     "name": "stdout",
     "output_type": "stream",
     "text": [
      "0\n",
      "1\n",
      "2\n",
      "3\n",
      "4\n",
      "5\n",
      "6\n",
      "7\n",
      "8\n",
      "9\n"
     ]
    }
   ],
   "source": [
    "import time\n",
    "for i in range(10):\n",
    "    print(i)\n",
    "    time.sleep(10)"
   ]
  },
  {
   "cell_type": "code",
   "execution_count": 2,
   "id": "225c6cb1",
   "metadata": {},
   "outputs": [],
   "source": [
    "import calendar\n",
    "\n"
   ]
  },
  {
   "cell_type": "code",
   "execution_count": 3,
   "id": "c05d47bb",
   "metadata": {},
   "outputs": [
    {
     "name": "stdout",
     "output_type": "stream",
     "text": [
      "                                  2022\n",
      "\n",
      "      January                   February                   March\n",
      "Mo Tu We Th Fr Sa Su      Mo Tu We Th Fr Sa Su      Mo Tu We Th Fr Sa Su\n",
      "                1  2          1  2  3  4  5  6          1  2  3  4  5  6\n",
      " 3  4  5  6  7  8  9       7  8  9 10 11 12 13       7  8  9 10 11 12 13\n",
      "10 11 12 13 14 15 16      14 15 16 17 18 19 20      14 15 16 17 18 19 20\n",
      "17 18 19 20 21 22 23      21 22 23 24 25 26 27      21 22 23 24 25 26 27\n",
      "24 25 26 27 28 29 30      28                        28 29 30 31\n",
      "31\n",
      "\n",
      "       April                      May                       June\n",
      "Mo Tu We Th Fr Sa Su      Mo Tu We Th Fr Sa Su      Mo Tu We Th Fr Sa Su\n",
      "             1  2  3                         1             1  2  3  4  5\n",
      " 4  5  6  7  8  9 10       2  3  4  5  6  7  8       6  7  8  9 10 11 12\n",
      "11 12 13 14 15 16 17       9 10 11 12 13 14 15      13 14 15 16 17 18 19\n",
      "18 19 20 21 22 23 24      16 17 18 19 20 21 22      20 21 22 23 24 25 26\n",
      "25 26 27 28 29 30         23 24 25 26 27 28 29      27 28 29 30\n",
      "                          30 31\n",
      "\n",
      "        July                     August                  September\n",
      "Mo Tu We Th Fr Sa Su      Mo Tu We Th Fr Sa Su      Mo Tu We Th Fr Sa Su\n",
      "             1  2  3       1  2  3  4  5  6  7                1  2  3  4\n",
      " 4  5  6  7  8  9 10       8  9 10 11 12 13 14       5  6  7  8  9 10 11\n",
      "11 12 13 14 15 16 17      15 16 17 18 19 20 21      12 13 14 15 16 17 18\n",
      "18 19 20 21 22 23 24      22 23 24 25 26 27 28      19 20 21 22 23 24 25\n",
      "25 26 27 28 29 30 31      29 30 31                  26 27 28 29 30\n",
      "\n",
      "      October                   November                  December\n",
      "Mo Tu We Th Fr Sa Su      Mo Tu We Th Fr Sa Su      Mo Tu We Th Fr Sa Su\n",
      "                1  2          1  2  3  4  5  6                1  2  3  4\n",
      " 3  4  5  6  7  8  9       7  8  9 10 11 12 13       5  6  7  8  9 10 11\n",
      "10 11 12 13 14 15 16      14 15 16 17 18 19 20      12 13 14 15 16 17 18\n",
      "17 18 19 20 21 22 23      21 22 23 24 25 26 27      19 20 21 22 23 24 25\n",
      "24 25 26 27 28 29 30      28 29 30                  26 27 28 29 30 31\n",
      "31\n",
      "\n"
     ]
    }
   ],
   "source": [
    "print(calendar.calendar(2022))"
   ]
  },
  {
   "cell_type": "code",
   "execution_count": 8,
   "id": "6597b827",
   "metadata": {},
   "outputs": [
    {
     "name": "stdout",
     "output_type": "stream",
     "text": [
      "   September 2022\n",
      "Mo Tu We Th Fr Sa Su\n",
      "          1  2  3  4\n",
      " 5  6  7  8  9 10 11\n",
      "12 13 14 15 16 17 18\n",
      "19 20 21 22 23 24 25\n",
      "26 27 28 29 30\n"
     ]
    }
   ],
   "source": [
    "calendar.prmonth(2022,9)"
   ]
  },
  {
   "cell_type": "code",
   "execution_count": 12,
   "id": "93c22f40",
   "metadata": {},
   "outputs": [
    {
     "data": {
      "text/plain": [
       "[[0, 0, 0, 1, 2, 3, 4],\n",
       " [5, 6, 7, 8, 9, 10, 11],\n",
       " [12, 13, 14, 15, 16, 17, 18],\n",
       " [19, 20, 21, 22, 23, 24, 25],\n",
       " [26, 27, 28, 29, 30, 0, 0]]"
      ]
     },
     "execution_count": 12,
     "metadata": {},
     "output_type": "execute_result"
    }
   ],
   "source": [
    "    calendar.monthcalendar(2022,9)"
   ]
  },
  {
   "cell_type": "code",
   "execution_count": 14,
   "id": "9550baf8",
   "metadata": {},
   "outputs": [],
   "source": [
    "import random"
   ]
  },
  {
   "cell_type": "code",
   "execution_count": 28,
   "id": "92d19c67",
   "metadata": {},
   "outputs": [],
   "source": [
    " random.seed(0)"
   ]
  },
  {
   "cell_type": "code",
   "execution_count": 34,
   "id": "0a8e846e",
   "metadata": {},
   "outputs": [
    {
     "data": {
      "text/plain": [
       "5"
      ]
     },
     "execution_count": 34,
     "metadata": {},
     "output_type": "execute_result"
    }
   ],
   "source": [
    "ra\n",
    "random.randint(1,10)"
   ]
  },
  {
   "cell_type": "code",
   "execution_count": 45,
   "id": "a69693b6",
   "metadata": {},
   "outputs": [
    {
     "name": "stdout",
     "output_type": "stream",
     "text": [
      "[3, 5, 2, 4, 1]\n"
     ]
    }
   ],
   "source": [
    "data=[1,2,3,4,5]\n",
    "random.shuffle(data)\n",
    "print(data)"
   ]
  },
  {
   "cell_type": "code",
   "execution_count": 46,
   "id": "7c5ccb6d",
   "metadata": {},
   "outputs": [],
   "source": [
    "import webbrowser"
   ]
  },
  {
   "cell_type": "code",
   "execution_count": 49,
   "id": "c4285a40",
   "metadata": {},
   "outputs": [
    {
     "data": {
      "text/plain": [
       "True"
      ]
     },
     "execution_count": 49,
     "metadata": {},
     "output_type": "execute_result"
    }
   ],
   "source": [
    "webbrowser.open(\"https://www.naver.com\")"
   ]
  },
  {
   "cell_type": "code",
   "execution_count": null,
   "id": "66997aea",
   "metadata": {},
   "outputs": [],
   "source": []
  }
 ],
 "metadata": {
  "kernelspec": {
   "display_name": "Python 3 (ipykernel)",
   "language": "python",
   "name": "python3"
  },
  "language_info": {
   "codemirror_mode": {
    "name": "ipython",
    "version": 3
   },
   "file_extension": ".py",
   "mimetype": "text/x-python",
   "name": "python",
   "nbconvert_exporter": "python",
   "pygments_lexer": "ipython3",
   "version": "3.9.12"
  },
  "toc": {
   "base_numbering": 1,
   "nav_menu": {},
   "number_sections": true,
   "sideBar": true,
   "skip_h1_title": false,
   "title_cell": "Table of Contents",
   "title_sidebar": "Contents",
   "toc_cell": false,
   "toc_position": {},
   "toc_section_display": true,
   "toc_window_display": false
  },
  "varInspector": {
   "cols": {
    "lenName": 16,
    "lenType": 16,
    "lenVar": 40
   },
   "kernels_config": {
    "python": {
     "delete_cmd_postfix": "",
     "delete_cmd_prefix": "del ",
     "library": "var_list.py",
     "varRefreshCmd": "print(var_dic_list())"
    },
    "r": {
     "delete_cmd_postfix": ") ",
     "delete_cmd_prefix": "rm(",
     "library": "var_list.r",
     "varRefreshCmd": "cat(var_dic_list()) "
    }
   },
   "types_to_exclude": [
    "module",
    "function",
    "builtin_function_or_method",
    "instance",
    "_Feature"
   ],
   "window_display": false
  }
 },
 "nbformat": 4,
 "nbformat_minor": 5
}
